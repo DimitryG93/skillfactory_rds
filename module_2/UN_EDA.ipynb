{
 "cells": [
  {
   "cell_type": "markdown",
   "metadata": {},
   "source": [
    "1. Какова была ваша роль в команде?\n",
    "\n",
    "2. Какой частью своей работы вы остались особенно довольны?\n",
    "\n",
    "3. Что не получилось сделать так, как хотелось? Над чем ещё стоит поработать?\n",
    "\n",
    "4. Что интересного и полезного вы узнали в этом модуле?\n",
    "\n",
    "5. Что является вашим главным результатом при прохождении этого проекта?\n",
    "\n",
    "6. Какие навыки вы уже можете применить в текущей деятельности?\n",
    "\n",
    "7. Планируете ли вы дополнительно изучать материалы по теме проекта?\n",
    "\n",
    "\n",
    "___________\n",
    "\n",
    "\n",
    "1. Консультативная\n",
    "\n",
    "2. Сложно сказать, зависит от результата итогового, вероятно могут быть ошибки, которые я сейчас не вижу\n",
    "\n",
    "3. Есть задача, которая возникла в ходе исследования. Буду ее позже решать. Хочу с помощью мультииндекса научиться строить сложные графики, где в отметаках (тикерах) будет название признаков, у него будет несколько прааметров, сгруппированных рядом, а по шкале У будут высвечены значения. В процессе разобрался, но есть еще несколько деталей, которые сам буду еще раз для себя уточнять. \n",
    "\n",
    "4. Что такое РАД, как его составлять, обрабатывать данные, хорошо отточил навыки работы с матплотлибом и построением графиков \n",
    "\n",
    "5. Зависит от конечного результата ( мнение ментора является важным критерием, несмотря на вполне хорошую, добросовестно проделанную работу)\n",
    "\n",
    "6. все)))\n",
    "\n",
    "7. конечно!)"
   ]
  },
  {
   "cell_type": "markdown",
   "metadata": {},
   "source": [
    "# Описание проекта\n",
    "--------------------------------------------------------\n",
    "\n",
    "Вас пригласили поучаствовать в одном из проектов UNICEF — международного подразделения ООН, чья миссия состоит в повышении уровня благополучия детей по всему миру. \n",
    "\n",
    "Суть проекта — **отследить влияние условий жизни учащихся** в возрасте от 15 до 22 лет **на их успеваемость по математике**, чтобы на ранней стадии выявлять студентов, находящихся в группе риска. (*то есть тех, кто вероятнее данный тест провалит*)\n",
    "\n",
    "Для этого **нужно построить модель, которая предсказывала бы результаты госэкзамена по математике** для каждого ученика школы.\n",
    "\n",
    "## 09.06.2020 (d/m/y)"
   ]
  },
  {
   "cell_type": "markdown",
   "metadata": {},
   "source": [
    "## Описание данных\n",
    "---------------\n",
    "\n",
    "* 1 school — аббревиатура школы, в которой учится ученик\n",
    "\n",
    "* 2 sex — пол ученика ('F' - женский, 'M' - мужской)\n",
    "\n",
    "* 3 age — возраст ученика (от 15 до 22)\n",
    "\n",
    "* 4 address — тип адреса ученика ('U' - городской, 'R' - за городом)\n",
    "\n",
    "* 5 famsize — размер семьи('LE3' <= 3, 'GT3' >3)\n",
    "\n",
    "* 6 Pstatus — статус совместного жилья родителей ('T' - живут вместе 'A' - раздельно)\n",
    "\n",
    "* 7 Medu — образование матери (0 - нет, 1 - 4 класса, 2 - 5-9 классы, 3 - среднее специальное или 11 классов, 4 - высшее)\n",
    "\n",
    "* 8 Fedu — образование отца (0 - нет, 1 - 4 класса, 2 - 5-9 классы, 3 - среднее специальное или 11 классов, 4 - высшее)\n",
    "\n",
    "* 9 Mjob — работа матери ('teacher' - учитель, 'health' - сфера здравоохранения, 'services' - гос служба, 'at_home' - не работает, 'other' - другое)\n",
    "\n",
    "* 10 Fjob — работа отца ('teacher' - учитель, 'health' - сфера здравоохранения, 'services' - гос служба, 'at_home' - не работает, 'other' - другое)\n",
    "\n",
    "* 11 reason — причина выбора школы ('home' - близость к дому, 'reputation' - репутация школы, 'course' - образовательная программа, 'other' - другое)\n",
    "\n",
    "* 12 guardian — опекун ('mother' - мать, 'father' - отец, 'other' - другое)\n",
    "\n",
    "* 13 traveltime — время в пути до школы (1 - <15 мин., 2 - 15-30 мин., 3 - 30-60 мин., 4 - >60 мин.)\n",
    "\n",
    "* 14 studytime — время на учёбу помимо школы в неделю (1 - <2 часов, 2 - 2-5 часов, 3 - 5-10 часов, 4 - >10 часов)\n",
    "\n",
    "* 15 failures — количество внеучебных неудач (n, если 1<=n<3, иначе 4)\n",
    "\n",
    "* 16 schoolsup — дополнительная образовательная поддержка (yes или no)\n",
    "\n",
    "* 17 famsup — семейная образовательная поддержка (yes или no)\n",
    "\n",
    "* 18 paid — дополнительные платные занятия по математике (yes или no)\n",
    "\n",
    "* 19 activities — дополнительные внеучебные занятия (yes или no)\n",
    "\n",
    "* 20 nursery — посещал детский сад (yes или no)\n",
    "\n",
    "* 21 higher — хочет получить высшее образование (yes или no)\n",
    "\n",
    "* 22 internet — наличие интернета дома (yes или no)\n",
    "\n",
    "* 23 romantic — в романтических отношениях (yes или no)\n",
    "\n",
    "* 24 famrel — семейные отношения (от 1 - очень плохо до 5 - очень хорошо)\n",
    "\n",
    "* 25 freetime — свободное время после школы (от 1 - очень мало до 5 - очень мого)\n",
    "\n",
    "* 26 goout — проведение времени с друзьями (от 1 - очень мало до 5 - очень много)\n",
    "\n",
    "* 27 health — текущее состояние здоровья (от 1 - очень плохо до 5 - очень хорошо)\n",
    "\n",
    "* 28 absences — количество пропущенных занятий\n",
    "\n",
    "* 29 score — баллы по госэкзамену по математике"
   ]
  },
  {
   "cell_type": "markdown",
   "metadata": {},
   "source": [
    "##  Содержание (План Работы)\n",
    "------------\n",
    "### Этап 1 \n",
    "* Открыть предоставленный датасет и изучить общую информацию\n",
    "* Провести предобработку данных, основанную на выводах изучения датасета. \n",
    "-------------\n",
    "### Этап 2\n",
    "*-Раздел 1-*\n",
    "* Рассмотреть распределение признака для числовых переменных\n",
    "* Устранить выбросы.\n",
    "* По необходимости преобразовать данные\n",
    "-----\n",
    "*-Раздел 2-*\n",
    "* Оценить количество уникальных значений для номинативных переменных.\n",
    "* Устранить выбросы.\n",
    "* По необходимости преобразовать данные\n",
    "-------------\n",
    "*-Раздел 3-*\n",
    "* Провести корреляционный анализ количественных переменных\n",
    "* Отобрать коррелирующие переменные.\n",
    "* Проанализировать номинативные переменные и устраните те, которые не влияют на предсказываемую величину (в данном случае — на переменную score).\n",
    "-------------\n",
    "### Этап 3 \n",
    "* Сформулировать выводы относительно качества данных и тех переменных, которые будут использовать в дальнейшем построении модели.\n",
    "\n",
    "\n",
    "-------------"
   ]
  },
  {
   "cell_type": "markdown",
   "metadata": {},
   "source": [
    "# Этап 1\n",
    "------\n",
    "## *Открытие предоставленного датасета и изучение общей информации*\n",
    "------\n",
    "*На данном этапе необходимо:*\n",
    "\n",
    "1) Импортировать  рабочий датасет и библиотеки, инструменты которых в дальнейшем придется использовать для работы с данными\n",
    "\n",
    "2) Открыть датасет и рассмотреть его. Указать на общие проблемы и предпринять попытку их устранения\n",
    "\n",
    "3) Описать выводы и результаты\n"
   ]
  },
  {
   "cell_type": "code",
   "execution_count": 1,
   "metadata": {},
   "outputs": [],
   "source": [
    "import pandas as pd\n",
    "import numpy as np\n",
    "import matplotlib.pyplot as plt\n",
    "%matplotlib inline\n",
    "import seaborn as sns\n",
    "from scipy.stats import ttest_ind,norm,t\n",
    "from itertools import combinations\n",
    "\n",
    "# Для дальнейшего удобства предлагаю установить дополнительные параметры отображения датафрейма\n",
    "\n",
    "pd.set_option('display.max_rows',50) # данный код делает возможным отображение до 50 строк датафрейма за один вызов\n",
    "pd.set_option('display.max_columns',50) # данный код делает возможным отображение до 50 колонок датафрейма за один вызов"
   ]
  },
  {
   "cell_type": "code",
   "execution_count": 2,
   "metadata": {},
   "outputs": [],
   "source": [
    "dataframe = pd.read_csv('C:\\Data for Python\\stud_math.xls')"
   ]
  },
  {
   "cell_type": "code",
   "execution_count": 3,
   "metadata": {},
   "outputs": [
    {
     "data": {
      "text/html": [
       "<div>\n",
       "<style scoped>\n",
       "    .dataframe tbody tr th:only-of-type {\n",
       "        vertical-align: middle;\n",
       "    }\n",
       "\n",
       "    .dataframe tbody tr th {\n",
       "        vertical-align: top;\n",
       "    }\n",
       "\n",
       "    .dataframe thead th {\n",
       "        text-align: right;\n",
       "    }\n",
       "</style>\n",
       "<table border=\"1\" class=\"dataframe\">\n",
       "  <thead>\n",
       "    <tr style=\"text-align: right;\">\n",
       "      <th></th>\n",
       "      <th>school</th>\n",
       "      <th>sex</th>\n",
       "      <th>age</th>\n",
       "      <th>address</th>\n",
       "      <th>famsize</th>\n",
       "      <th>Pstatus</th>\n",
       "      <th>Medu</th>\n",
       "      <th>Fedu</th>\n",
       "      <th>Mjob</th>\n",
       "      <th>Fjob</th>\n",
       "      <th>reason</th>\n",
       "      <th>guardian</th>\n",
       "      <th>traveltime</th>\n",
       "      <th>studytime</th>\n",
       "      <th>failures</th>\n",
       "      <th>schoolsup</th>\n",
       "      <th>famsup</th>\n",
       "      <th>paid</th>\n",
       "      <th>activities</th>\n",
       "      <th>nursery</th>\n",
       "      <th>studytime, granular</th>\n",
       "      <th>higher</th>\n",
       "      <th>internet</th>\n",
       "      <th>romantic</th>\n",
       "      <th>famrel</th>\n",
       "      <th>freetime</th>\n",
       "      <th>goout</th>\n",
       "      <th>health</th>\n",
       "      <th>absences</th>\n",
       "      <th>score</th>\n",
       "    </tr>\n",
       "  </thead>\n",
       "  <tbody>\n",
       "    <tr>\n",
       "      <td>0</td>\n",
       "      <td>GP</td>\n",
       "      <td>F</td>\n",
       "      <td>18</td>\n",
       "      <td>U</td>\n",
       "      <td>NaN</td>\n",
       "      <td>A</td>\n",
       "      <td>4.0</td>\n",
       "      <td>4.0</td>\n",
       "      <td>at_home</td>\n",
       "      <td>teacher</td>\n",
       "      <td>course</td>\n",
       "      <td>mother</td>\n",
       "      <td>2.0</td>\n",
       "      <td>2.0</td>\n",
       "      <td>0.0</td>\n",
       "      <td>yes</td>\n",
       "      <td>no</td>\n",
       "      <td>no</td>\n",
       "      <td>no</td>\n",
       "      <td>yes</td>\n",
       "      <td>-6.0</td>\n",
       "      <td>yes</td>\n",
       "      <td>NaN</td>\n",
       "      <td>no</td>\n",
       "      <td>4.0</td>\n",
       "      <td>3.0</td>\n",
       "      <td>4.0</td>\n",
       "      <td>3.0</td>\n",
       "      <td>6.0</td>\n",
       "      <td>30.0</td>\n",
       "    </tr>\n",
       "    <tr>\n",
       "      <td>1</td>\n",
       "      <td>GP</td>\n",
       "      <td>F</td>\n",
       "      <td>17</td>\n",
       "      <td>U</td>\n",
       "      <td>GT3</td>\n",
       "      <td>NaN</td>\n",
       "      <td>1.0</td>\n",
       "      <td>1.0</td>\n",
       "      <td>at_home</td>\n",
       "      <td>other</td>\n",
       "      <td>course</td>\n",
       "      <td>father</td>\n",
       "      <td>1.0</td>\n",
       "      <td>2.0</td>\n",
       "      <td>0.0</td>\n",
       "      <td>no</td>\n",
       "      <td>yes</td>\n",
       "      <td>no</td>\n",
       "      <td>no</td>\n",
       "      <td>no</td>\n",
       "      <td>-6.0</td>\n",
       "      <td>yes</td>\n",
       "      <td>yes</td>\n",
       "      <td>no</td>\n",
       "      <td>5.0</td>\n",
       "      <td>3.0</td>\n",
       "      <td>3.0</td>\n",
       "      <td>3.0</td>\n",
       "      <td>4.0</td>\n",
       "      <td>30.0</td>\n",
       "    </tr>\n",
       "    <tr>\n",
       "      <td>2</td>\n",
       "      <td>GP</td>\n",
       "      <td>F</td>\n",
       "      <td>15</td>\n",
       "      <td>U</td>\n",
       "      <td>LE3</td>\n",
       "      <td>T</td>\n",
       "      <td>1.0</td>\n",
       "      <td>1.0</td>\n",
       "      <td>at_home</td>\n",
       "      <td>other</td>\n",
       "      <td>other</td>\n",
       "      <td>mother</td>\n",
       "      <td>1.0</td>\n",
       "      <td>2.0</td>\n",
       "      <td>3.0</td>\n",
       "      <td>yes</td>\n",
       "      <td>no</td>\n",
       "      <td>NaN</td>\n",
       "      <td>no</td>\n",
       "      <td>yes</td>\n",
       "      <td>-6.0</td>\n",
       "      <td>yes</td>\n",
       "      <td>yes</td>\n",
       "      <td>NaN</td>\n",
       "      <td>4.0</td>\n",
       "      <td>3.0</td>\n",
       "      <td>2.0</td>\n",
       "      <td>3.0</td>\n",
       "      <td>10.0</td>\n",
       "      <td>50.0</td>\n",
       "    </tr>\n",
       "    <tr>\n",
       "      <td>3</td>\n",
       "      <td>GP</td>\n",
       "      <td>F</td>\n",
       "      <td>15</td>\n",
       "      <td>U</td>\n",
       "      <td>GT3</td>\n",
       "      <td>T</td>\n",
       "      <td>4.0</td>\n",
       "      <td>2.0</td>\n",
       "      <td>health</td>\n",
       "      <td>NaN</td>\n",
       "      <td>home</td>\n",
       "      <td>mother</td>\n",
       "      <td>1.0</td>\n",
       "      <td>3.0</td>\n",
       "      <td>0.0</td>\n",
       "      <td>no</td>\n",
       "      <td>yes</td>\n",
       "      <td>yes</td>\n",
       "      <td>yes</td>\n",
       "      <td>yes</td>\n",
       "      <td>-9.0</td>\n",
       "      <td>yes</td>\n",
       "      <td>yes</td>\n",
       "      <td>yes</td>\n",
       "      <td>3.0</td>\n",
       "      <td>2.0</td>\n",
       "      <td>2.0</td>\n",
       "      <td>5.0</td>\n",
       "      <td>2.0</td>\n",
       "      <td>75.0</td>\n",
       "    </tr>\n",
       "    <tr>\n",
       "      <td>4</td>\n",
       "      <td>GP</td>\n",
       "      <td>F</td>\n",
       "      <td>16</td>\n",
       "      <td>U</td>\n",
       "      <td>GT3</td>\n",
       "      <td>T</td>\n",
       "      <td>3.0</td>\n",
       "      <td>3.0</td>\n",
       "      <td>other</td>\n",
       "      <td>other</td>\n",
       "      <td>home</td>\n",
       "      <td>father</td>\n",
       "      <td>1.0</td>\n",
       "      <td>2.0</td>\n",
       "      <td>0.0</td>\n",
       "      <td>no</td>\n",
       "      <td>yes</td>\n",
       "      <td>yes</td>\n",
       "      <td>no</td>\n",
       "      <td>yes</td>\n",
       "      <td>-6.0</td>\n",
       "      <td>yes</td>\n",
       "      <td>no</td>\n",
       "      <td>no</td>\n",
       "      <td>4.0</td>\n",
       "      <td>3.0</td>\n",
       "      <td>2.0</td>\n",
       "      <td>5.0</td>\n",
       "      <td>4.0</td>\n",
       "      <td>50.0</td>\n",
       "    </tr>\n",
       "  </tbody>\n",
       "</table>\n",
       "</div>"
      ],
      "text/plain": [
       "  school sex  age address famsize Pstatus  Medu  Fedu     Mjob     Fjob  \\\n",
       "0     GP   F   18       U     NaN       A   4.0   4.0  at_home  teacher   \n",
       "1     GP   F   17       U     GT3     NaN   1.0   1.0  at_home    other   \n",
       "2     GP   F   15       U     LE3       T   1.0   1.0  at_home    other   \n",
       "3     GP   F   15       U     GT3       T   4.0   2.0   health      NaN   \n",
       "4     GP   F   16       U     GT3       T   3.0   3.0    other    other   \n",
       "\n",
       "   reason guardian  traveltime  studytime  failures schoolsup famsup paid  \\\n",
       "0  course   mother         2.0        2.0       0.0       yes     no   no   \n",
       "1  course   father         1.0        2.0       0.0        no    yes   no   \n",
       "2   other   mother         1.0        2.0       3.0       yes     no  NaN   \n",
       "3    home   mother         1.0        3.0       0.0        no    yes  yes   \n",
       "4    home   father         1.0        2.0       0.0        no    yes  yes   \n",
       "\n",
       "  activities nursery  studytime, granular higher internet romantic  famrel  \\\n",
       "0         no     yes                 -6.0    yes      NaN       no     4.0   \n",
       "1         no      no                 -6.0    yes      yes       no     5.0   \n",
       "2         no     yes                 -6.0    yes      yes      NaN     4.0   \n",
       "3        yes     yes                 -9.0    yes      yes      yes     3.0   \n",
       "4         no     yes                 -6.0    yes       no       no     4.0   \n",
       "\n",
       "   freetime  goout  health  absences  score  \n",
       "0       3.0    4.0     3.0       6.0   30.0  \n",
       "1       3.0    3.0     3.0       4.0   30.0  \n",
       "2       3.0    2.0     3.0      10.0   50.0  \n",
       "3       2.0    2.0     5.0       2.0   75.0  \n",
       "4       3.0    2.0     5.0       4.0   50.0  "
      ]
     },
     "execution_count": 3,
     "metadata": {},
     "output_type": "execute_result"
    }
   ],
   "source": [
    "dataframe.head()"
   ]
  },
  {
   "cell_type": "markdown",
   "metadata": {},
   "source": [
    "Названия колонок в целом составлены верно, однако ради более строгого формата следует привести названия следующих колонок к нижнему регистру с андерскором ( нижним подчеркиванием):\n",
    "____\n",
    "Pstatus  --->  p_status\n",
    "\n",
    "Medu  --->  m_edu\n",
    "\n",
    "Feud --->   f_edu\n",
    "\n",
    "Mjob --->   m_job\n",
    "\n",
    "Fjob --->  f_job\n",
    "\n",
    "goout ---> go_out"
   ]
  },
  {
   "cell_type": "code",
   "execution_count": 4,
   "metadata": {},
   "outputs": [
    {
     "name": "stdout",
     "output_type": "stream",
     "text": [
      "<class 'pandas.core.frame.DataFrame'>\n",
      "RangeIndex: 395 entries, 0 to 394\n",
      "Data columns (total 30 columns):\n",
      "school                 395 non-null object\n",
      "sex                    395 non-null object\n",
      "age                    395 non-null int64\n",
      "address                378 non-null object\n",
      "famsize                368 non-null object\n",
      "Pstatus                350 non-null object\n",
      "Medu                   392 non-null float64\n",
      "Fedu                   371 non-null float64\n",
      "Mjob                   376 non-null object\n",
      "Fjob                   359 non-null object\n",
      "reason                 378 non-null object\n",
      "guardian               364 non-null object\n",
      "traveltime             367 non-null float64\n",
      "studytime              388 non-null float64\n",
      "failures               373 non-null float64\n",
      "schoolsup              386 non-null object\n",
      "famsup                 356 non-null object\n",
      "paid                   355 non-null object\n",
      "activities             381 non-null object\n",
      "nursery                379 non-null object\n",
      "studytime, granular    388 non-null float64\n",
      "higher                 375 non-null object\n",
      "internet               361 non-null object\n",
      "romantic               364 non-null object\n",
      "famrel                 368 non-null float64\n",
      "freetime               384 non-null float64\n",
      "goout                  387 non-null float64\n",
      "health                 380 non-null float64\n",
      "absences               383 non-null float64\n",
      "score                  389 non-null float64\n",
      "dtypes: float64(12), int64(1), object(17)\n",
      "memory usage: 92.7+ KB\n"
     ]
    }
   ],
   "source": [
    "dataframe.info()"
   ]
  },
  {
   "cell_type": "markdown",
   "metadata": {},
   "source": [
    "Имеется ли у датафрейма дубликаты? (повторяющиеся наблюдения)"
   ]
  },
  {
   "cell_type": "code",
   "execution_count": 5,
   "metadata": {},
   "outputs": [
    {
     "data": {
      "text/plain": [
       "0"
      ]
     },
     "execution_count": 5,
     "metadata": {},
     "output_type": "execute_result"
    }
   ],
   "source": [
    "dataframe.duplicated().sum()"
   ]
  },
  {
   "cell_type": "markdown",
   "metadata": {},
   "source": [
    "## Вывод\n",
    "-------------\n",
    "\n",
    "В датафрейме отсутсвуют дубликаты строк.\n",
    "\n",
    "В 27 из 30 столбцов имеются пропуски. При первоначальном рассмотрении, в среднем, их число не превышает 10% от общего количества значений рассматриваемого признака. Из имеющихся признаков полностью известны лишь школа, пол и возраст студента.\n",
    "В дальнейшем количество пропущенных значений в каждом признаке будет учитываться при более подробном рассмотрении данных.\n",
    "\n",
    "Наибольшее количество пропусков содержится в признаках:\n",
    "* *об оплате дополнительных занятий (paid)* \n",
    "* *семейной образовательной поддержке (famsup)* \n",
    "* *совместном проживании родителей (Pstatus)* \n",
    "\n",
    "Каждое из 394 наблюдений обладает 17 категориальными и 13 числовыми признаками ( характеристиками )\n",
    "\n",
    "Прежде, чем обрабатывать или работать с предоставленным датасетом имеет смысл создать его копию, чтобы иметь возможность обращения к его первоначальному виду и минимизировать искажение первоначальных данных при дальнейшей работе. \n",
    "Некоторые названия колонок следует привести к более строгому виду.\n",
    "\n",
    "\n"
   ]
  },
  {
   "cell_type": "markdown",
   "metadata": {},
   "source": [
    "-----\n",
    "## *Проведение предобработки данных*\n",
    "-----\n",
    "*На данном этапе необходимо:*\n",
    "\n",
    "1) Создать копию датафрейма\n",
    "\n",
    "2) Исправить название колонок\n",
    "\n",
    "3) Заменить пропуски\n",
    "\n",
    "4) Описать выводы и результаты"
   ]
  },
  {
   "cell_type": "code",
   "execution_count": 6,
   "metadata": {},
   "outputs": [],
   "source": [
    "df = dataframe.copy()"
   ]
  },
  {
   "cell_type": "code",
   "execution_count": 7,
   "metadata": {},
   "outputs": [],
   "source": [
    "df.rename(columns={'Pstatus':'p_status','Medu':'m_edu','Fedu':'f_edu',\n",
    "                  'Mjob':'m_job','Fjob':'f_job','goout':'go_out'}, inplace=True)"
   ]
  },
  {
   "cell_type": "code",
   "execution_count": 8,
   "metadata": {
    "scrolled": true
   },
   "outputs": [
    {
     "data": {
      "text/html": [
       "<div>\n",
       "<style scoped>\n",
       "    .dataframe tbody tr th:only-of-type {\n",
       "        vertical-align: middle;\n",
       "    }\n",
       "\n",
       "    .dataframe tbody tr th {\n",
       "        vertical-align: top;\n",
       "    }\n",
       "\n",
       "    .dataframe thead th {\n",
       "        text-align: right;\n",
       "    }\n",
       "</style>\n",
       "<table border=\"1\" class=\"dataframe\">\n",
       "  <thead>\n",
       "    <tr style=\"text-align: right;\">\n",
       "      <th></th>\n",
       "      <th>Null</th>\n",
       "    </tr>\n",
       "  </thead>\n",
       "  <tbody>\n",
       "    <tr>\n",
       "      <td>school</td>\n",
       "      <td>0</td>\n",
       "    </tr>\n",
       "    <tr>\n",
       "      <td>sex</td>\n",
       "      <td>0</td>\n",
       "    </tr>\n",
       "    <tr>\n",
       "      <td>age</td>\n",
       "      <td>0</td>\n",
       "    </tr>\n",
       "    <tr>\n",
       "      <td>address</td>\n",
       "      <td>17</td>\n",
       "    </tr>\n",
       "    <tr>\n",
       "      <td>famsize</td>\n",
       "      <td>27</td>\n",
       "    </tr>\n",
       "    <tr>\n",
       "      <td>p_status</td>\n",
       "      <td>45</td>\n",
       "    </tr>\n",
       "    <tr>\n",
       "      <td>m_edu</td>\n",
       "      <td>3</td>\n",
       "    </tr>\n",
       "    <tr>\n",
       "      <td>f_edu</td>\n",
       "      <td>24</td>\n",
       "    </tr>\n",
       "    <tr>\n",
       "      <td>m_job</td>\n",
       "      <td>19</td>\n",
       "    </tr>\n",
       "    <tr>\n",
       "      <td>f_job</td>\n",
       "      <td>36</td>\n",
       "    </tr>\n",
       "    <tr>\n",
       "      <td>reason</td>\n",
       "      <td>17</td>\n",
       "    </tr>\n",
       "    <tr>\n",
       "      <td>guardian</td>\n",
       "      <td>31</td>\n",
       "    </tr>\n",
       "    <tr>\n",
       "      <td>traveltime</td>\n",
       "      <td>28</td>\n",
       "    </tr>\n",
       "    <tr>\n",
       "      <td>studytime</td>\n",
       "      <td>7</td>\n",
       "    </tr>\n",
       "    <tr>\n",
       "      <td>failures</td>\n",
       "      <td>22</td>\n",
       "    </tr>\n",
       "    <tr>\n",
       "      <td>schoolsup</td>\n",
       "      <td>9</td>\n",
       "    </tr>\n",
       "    <tr>\n",
       "      <td>famsup</td>\n",
       "      <td>39</td>\n",
       "    </tr>\n",
       "    <tr>\n",
       "      <td>paid</td>\n",
       "      <td>40</td>\n",
       "    </tr>\n",
       "    <tr>\n",
       "      <td>activities</td>\n",
       "      <td>14</td>\n",
       "    </tr>\n",
       "    <tr>\n",
       "      <td>nursery</td>\n",
       "      <td>16</td>\n",
       "    </tr>\n",
       "    <tr>\n",
       "      <td>studytime, granular</td>\n",
       "      <td>7</td>\n",
       "    </tr>\n",
       "    <tr>\n",
       "      <td>higher</td>\n",
       "      <td>20</td>\n",
       "    </tr>\n",
       "    <tr>\n",
       "      <td>internet</td>\n",
       "      <td>34</td>\n",
       "    </tr>\n",
       "    <tr>\n",
       "      <td>romantic</td>\n",
       "      <td>31</td>\n",
       "    </tr>\n",
       "    <tr>\n",
       "      <td>famrel</td>\n",
       "      <td>27</td>\n",
       "    </tr>\n",
       "    <tr>\n",
       "      <td>freetime</td>\n",
       "      <td>11</td>\n",
       "    </tr>\n",
       "    <tr>\n",
       "      <td>go_out</td>\n",
       "      <td>8</td>\n",
       "    </tr>\n",
       "    <tr>\n",
       "      <td>health</td>\n",
       "      <td>15</td>\n",
       "    </tr>\n",
       "    <tr>\n",
       "      <td>absences</td>\n",
       "      <td>12</td>\n",
       "    </tr>\n",
       "    <tr>\n",
       "      <td>score</td>\n",
       "      <td>6</td>\n",
       "    </tr>\n",
       "  </tbody>\n",
       "</table>\n",
       "</div>"
      ],
      "text/plain": [
       "                     Null\n",
       "school                  0\n",
       "sex                     0\n",
       "age                     0\n",
       "address                17\n",
       "famsize                27\n",
       "p_status               45\n",
       "m_edu                   3\n",
       "f_edu                  24\n",
       "m_job                  19\n",
       "f_job                  36\n",
       "reason                 17\n",
       "guardian               31\n",
       "traveltime             28\n",
       "studytime               7\n",
       "failures               22\n",
       "schoolsup               9\n",
       "famsup                 39\n",
       "paid                   40\n",
       "activities             14\n",
       "nursery                16\n",
       "studytime, granular     7\n",
       "higher                 20\n",
       "internet               34\n",
       "romantic               31\n",
       "famrel                 27\n",
       "freetime               11\n",
       "go_out                  8\n",
       "health                 15\n",
       "absences               12\n",
       "score                   6"
      ]
     },
     "metadata": {},
     "output_type": "display_data"
    }
   ],
   "source": [
    "display(pd.DataFrame(df.isna().sum(),columns=['Null']))"
   ]
  },
  {
   "cell_type": "markdown",
   "metadata": {},
   "source": [
    "Конечно, возможно просто выбросить наблюдения из датафрейма, в которых содержится NaN, так как их совсем немного и на результат исследвания данная чистка вряд ли значительно повлияет, однако лучше будет предпринять попытку замены NaN на None для дальнейшего удобства. Это позволит перевести тип пустых значений в нейтральное состояние. ( Распределение NaN в датафрейме является таковым, что если удалить все строки с пустыми значениями, то потеряется большая часть информации (код для проверки закомментирован ниже) из 394 наблюдений остается лишь 89)"
   ]
  },
  {
   "cell_type": "code",
   "execution_count": 9,
   "metadata": {},
   "outputs": [],
   "source": [
    "#df.dropna()"
   ]
  },
  {
   "cell_type": "code",
   "execution_count": 10,
   "metadata": {},
   "outputs": [],
   "source": [
    "df = df.where(df.notnull(),None)"
   ]
  },
  {
   "cell_type": "markdown",
   "metadata": {},
   "source": [
    "Так как метод where перевел некоторые числовые признаки в тип object из-за того, что в признаки попал тип None, следует вернуть некоторым столбцам их числовой, первоначальный вид"
   ]
  },
  {
   "cell_type": "code",
   "execution_count": 11,
   "metadata": {
    "scrolled": false
   },
   "outputs": [],
   "source": [
    "df[['m_edu','f_edu','traveltime','studytime','failures','studytime, granular','famrel','freetime',\n",
    "   'go_out','health','absences','score']] = df[['m_edu','f_edu','traveltime','studytime','failures','studytime, granular','famrel','freetime',\n",
    "   'go_out','health','absences','score']].apply(pd.to_numeric)\n",
    "#df.info()"
   ]
  },
  {
   "cell_type": "markdown",
   "metadata": {},
   "source": [
    "Следует обратить внимание на 1 признак\n",
    "\n",
    "'studytime, granular'\n",
    "\n",
    "Он как-то связан со временем обучения, однако изначально никакого описания данной характеристики не приводится. \n",
    "Можно попробовать установить чем данный признак отличается от параметра времени обучения. "
   ]
  },
  {
   "cell_type": "code",
   "execution_count": 12,
   "metadata": {},
   "outputs": [
    {
     "data": {
      "text/html": [
       "<div>\n",
       "<style scoped>\n",
       "    .dataframe tbody tr th:only-of-type {\n",
       "        vertical-align: middle;\n",
       "    }\n",
       "\n",
       "    .dataframe tbody tr th {\n",
       "        vertical-align: top;\n",
       "    }\n",
       "\n",
       "    .dataframe thead th {\n",
       "        text-align: right;\n",
       "    }\n",
       "</style>\n",
       "<table border=\"1\" class=\"dataframe\">\n",
       "  <thead>\n",
       "    <tr style=\"text-align: right;\">\n",
       "      <th></th>\n",
       "      <th>studytime</th>\n",
       "      <th>studytime, granular</th>\n",
       "    </tr>\n",
       "  </thead>\n",
       "  <tbody>\n",
       "    <tr>\n",
       "      <td>studytime</td>\n",
       "      <td>1.0</td>\n",
       "      <td>-1.0</td>\n",
       "    </tr>\n",
       "    <tr>\n",
       "      <td>studytime, granular</td>\n",
       "      <td>-1.0</td>\n",
       "      <td>1.0</td>\n",
       "    </tr>\n",
       "  </tbody>\n",
       "</table>\n",
       "</div>"
      ],
      "text/plain": [
       "                     studytime  studytime, granular\n",
       "studytime                  1.0                 -1.0\n",
       "studytime, granular       -1.0                  1.0"
      ]
     },
     "execution_count": 12,
     "metadata": {},
     "output_type": "execute_result"
    }
   ],
   "source": [
    "dataframe.loc[:,['studytime','studytime, granular']].corr()"
   ]
  },
  {
   "cell_type": "code",
   "execution_count": 13,
   "metadata": {},
   "outputs": [
    {
     "data": {
      "text/plain": [
       "array([-0.33333333,         nan])"
      ]
     },
     "execution_count": 13,
     "metadata": {},
     "output_type": "execute_result"
    }
   ],
   "source": [
    "(dataframe['studytime'] / dataframe['studytime, granular']).unique()"
   ]
  },
  {
   "cell_type": "code",
   "execution_count": 14,
   "metadata": {},
   "outputs": [
    {
     "data": {
      "text/plain": [
       "0      2.0\n",
       "1      2.0\n",
       "2      2.0\n",
       "3      3.0\n",
       "4      2.0\n",
       "      ... \n",
       "390    2.0\n",
       "391    1.0\n",
       "392    1.0\n",
       "393    1.0\n",
       "394    1.0\n",
       "Name: studytime, Length: 395, dtype: float64"
      ]
     },
     "execution_count": 14,
     "metadata": {},
     "output_type": "execute_result"
    }
   ],
   "source": [
    "dataframe['studytime']"
   ]
  },
  {
   "cell_type": "markdown",
   "metadata": {},
   "source": [
    "У данных двух признаков прослеживается 100% отрицательная взаимосвязь ( корреляция)\n",
    "Что из себя представляет признак 'studyitme, granular' остается под вопросом.\n",
    "Видно, что каждое значение из 'studytime' отличается от 'studytime, granular' на -0.(3)\n",
    "Что из себя представляет данная характеристика не очень ясно.\n",
    "\n",
    "Что можно предположить?\n",
    "\n",
    "Отрицательный признак потраченного времени на учебу вне школы это количество потерянных часов, которое ученик тратил во время внеклассных занятий от общего количества внеклассного учебного времени. Однако это странно, так как вряд ли у 400 человек совпадает количество полезного времени в точности до n знака после запятой, 0.3 в периоде. \n",
    "\n",
    "Поскольку информация по признаку 'studyitme, granular' не преоставлена, а также, возможно является излишней, так как по условию'studytime' отражает количество затраченного времени на учебу помимо школы, данный признак ( 'studyitme, granular' ) в дальнейшей работе рассматриваться не будет."
   ]
  },
  {
   "cell_type": "markdown",
   "metadata": {},
   "source": [
    "## Вывод\n",
    "----------\n",
    "Данные поступили в приемлимом виде.\n",
    " \n",
    "Дубликаты отсутсвуют, имеющийся датасет имел мало недостатков для того, чтобы делать значительную предобработку. NaN заменены на значения None.\n",
    "\n",
    "Восстановление пропущенных значений, на основе имеющихся, не представляется возможным или даже целесообразным, так как само количество пропусков в каждом из столбцов не расценивается как критичное для дальнейшего анализа данных. \n",
    "\n",
    "В среднем, пустых значений в каждом признаке не более 5-7 %.\n",
    "\n",
    "В датафрейме имелся неописанный в условии признак 'studytime, graular' , который в дальнейшем был проанализирован и удален, так как его наличие является лишним, а природа неизвестна. \n",
    "\n",
    "На данный момент датасет готов к исследованию."
   ]
  },
  {
   "cell_type": "markdown",
   "metadata": {},
   "source": [
    "# Этап 2\n",
    "------\n",
    "## *Исследование данных*\n",
    "------\n",
    "\n",
    "-Раздел 1-\n",
    "* Рассмотренить распределение признака для числовых переменных\n",
    "* Устранить выбросы\n",
    "* По необходимости преобразовать данные\n",
    "----\n",
    "-Раздел 2-\n",
    "* Оценить количество уникальных значений для номинативных переменных.\n",
    "* Устранить выбросы.\n",
    "* По необходимости преобразовать данные\n",
    "----\n",
    "-Раздел 3-\n",
    "* Провести корреляционный анализ количественных переменных\n",
    "* Отобрать не коррелирующие переменные.\n",
    "* Проанализировать номинативные переменные и устраните те, которые не влияют на предсказываемую величину (в данном случае — на переменную score).\n",
    "\n",
    "\n",
    "В первой части будут отдельно рассмотрены количественны признаки\n",
    "\n",
    "Во второй части будут отдельно рассмотрены номинативные переменные\n",
    "\n",
    "В третьей будет рассмотрена связь между оценками (score) и остальными показателями, основываясь на корреляционном , статистическом анализе\n",
    "**************\n",
    "\n",
    "***Основная задача данной части исследования является в том, чтобы проанализировать и подготовить данные к дальнейшему поиску взаимосвязей между условием жизни учащихся и их успеваемости по математике***"
   ]
  },
  {
   "cell_type": "markdown",
   "metadata": {},
   "source": [
    "*Некоторые функции, которые в дальнейшем будут неоднократно использоваться*"
   ]
  },
  {
   "cell_type": "code",
   "execution_count": 15,
   "metadata": {},
   "outputs": [],
   "source": [
    "def valueprinter(bars,xcoord=2.3,ycoord=2,fontsize=14,bbox_color='white',xfixed=True,perc=True): \n",
    "    \n",
    "# Выводит значения каждой колонки на график\n",
    "    \"\"\"Takes a barplot and prints values of each bar.\n",
    "    It haves parameters, such as:\n",
    "    \n",
    "    -containter of a bar plot\n",
    "    -xcorrd = fixes x coordinates along the figure for the labels\n",
    "    -ycoord = fixes y coordinates along the figure for the labels\n",
    "    -fontsize = color of a font\n",
    "    -bbox_color = color of a box\n",
    "    -xfixed = default (True). If you have more than just 1 graph it will help you to put the specific coordinates of x\n",
    "    -perc = default (True) .Shows the values in a percentage form\"\"\"\n",
    "    \n",
    "    total_sum = 0\n",
    "    for number in range(0,len(bars)):\n",
    "        total_sum += bars[number].get_height()    \n",
    "    \n",
    "    \n",
    "    if xfixed==True and perc==True:\n",
    "        for elem in bars:\n",
    "            plt.text(elem.get_x() + elem.get_width()/xcoord,elem.get_y()+elem.get_height()+ycoord,\n",
    "                     '{}%'.format(round((elem.get_height()/total_sum)*100)),\n",
    "                    fontsize=fontsize,bbox=dict(facecolor=bbox_color))\n",
    "    # теперь можно будет переносить координаты с оси икс одного из нескольких графиков на в любую часть фигуры        \n",
    "    elif xfixed!=True and perc==True: \n",
    "        for elem in bars: # это дает возможность более быстрого, точного обозначения\n",
    "            plt.text(elem.get_x() + xfixed,elem.get_y()+elem.get_height()/ycoord,\n",
    "                     '{}%'.format(round((elem.get_height()/total_sum)*100)),\n",
    "                    fontsize=fontsize,bbox=dict(facecolor=bbox_color))\n",
    "            \n",
    "    elif xfixed==True and perc!=True:\n",
    "        for elem in bars:\n",
    "            plt.text(elem.get_x() + elem.get_width()/xcoord,elem.get_y()+elem.get_height()+ycoord,\n",
    "                     elem.get_height(),\n",
    "                    fontsize=fontsize,bbox=dict(facecolor=bbox_color))\n",
    "            \n",
    "    else:\n",
    "        for elem in bars: # это дает возможность более быстрого, точного обозначения\n",
    "            plt.text(elem.get_x() + xfixed,elem.get_y()+elem.get_height()/ycoord,\n",
    "                     elem.get_height(),\n",
    "                    fontsize=fontsize,bbox=dict(facecolor=bbox_color))        "
   ]
  },
  {
   "cell_type": "code",
   "execution_count": 16,
   "metadata": {},
   "outputs": [],
   "source": [
    "def journalist(column_name): \n",
    "# предоставляет дополнительную описательную статистику\n",
    "    \"\"\"insert a list of column names and you will print some common knowledge by each position\"\"\"\n",
    "    \n",
    "    for name in column_name:\n",
    "        print('Признак ({})'.format(name)) # название признака\n",
    "        display(df[name].value_counts().sort_index(ascending=False)) # подсчет значений\n",
    "        print('Общее количество наблюдений: {}'.format(df[name].value_counts().sum()))  \n",
    "        print('Количество уникальных значений: {}'.format(df[name].nunique())) \n",
    "        print('Количество отсутствующих значений: {}, {:.0f}%'.format(df[name].isna().sum(),\n",
    "                                                                  round((df[name].isna().sum()/df[name].value_counts().sum()),\n",
    "                                                                        2)*100),'\\n')     "
   ]
  },
  {
   "cell_type": "code",
   "execution_count": 17,
   "metadata": {},
   "outputs": [],
   "source": [
    "def you_are_so_unique(names,none=True):\n",
    "    \"\"\"It takes a list of column names and shows unique values and its quantity of a sertain columns\n",
    "    -none = default True. Including None values or not?\"\"\"\n",
    "    \n",
    "    if none==True:\n",
    "        for name in names:\n",
    "            print('Уникальные значения в колонке - ',name,'\\n',\n",
    "                  list(df[name].unique()),' - {}'.format(df[name].nunique(dropna=False)))\n",
    "            \n",
    "    else:\n",
    "        for name in names:\n",
    "            print('Уникальные значения в колонке - ',name,'\\n',\n",
    "                  list(df[name].dropna().unique()),' - {}'.format(df[name].nunique()))"
   ]
  },
  {
   "cell_type": "code",
   "execution_count": 18,
   "metadata": {},
   "outputs": [],
   "source": [
    "def columnator(column_names,unique = False): \n",
    "    \n",
    "# создает датафрей в котором индексом будет название колонки, \n",
    "# значениями результат функции value_counts\n",
    "    \"\"\"It takes list with names of columns, counts values of a column and concatanate them to one DataFrame.\n",
    "    It needs two values,\n",
    "    -column_names =  list, \n",
    "    unique = default False. Schows number of unique values additionally'\"\"\"\n",
    "    \n",
    "    df_list = []\n",
    "    df_dict = {}\n",
    "    \n",
    "    if unique == False:\n",
    "        for name in column_names:\n",
    "            df = pd.DataFrame(df_nom[name].value_counts())\n",
    "            df = df.reset_index()\n",
    "            df.columns = ['parameter','total']\n",
    "            df_dict[name] = df\n",
    "            result = pd.concat(df_dict)\n",
    "            print('Количество пустых значений в',name,': {}'.format(df_nom[name].isna().sum()))  \n",
    "        return result\n",
    "    \n",
    "    else:\n",
    "        for name in column_names:\n",
    "            df = pd.DataFrame(df_nom[name].value_counts())\n",
    "            df = df.reset_index()\n",
    "            df.columns = ['parameter','total']\n",
    "            df_dict[name] = df\n",
    "            result = pd.concat(df_dict)\n",
    "            print('Количество пустых / уникальных значений в',name,': {} / {}'.format(df_nom[name].isna().sum(),\n",
    "                                                                                      df_nom[name].nunique()))\n",
    "        return result"
   ]
  },
  {
   "cell_type": "code",
   "execution_count": 19,
   "metadata": {},
   "outputs": [],
   "source": [
    "def get_boxplot(column):\n",
    "    \n",
    "# Строит BoxPlot признака по отношению к оценкам\n",
    "    \"\"\"Constructs boxplot\"\"\"\n",
    "    \n",
    "    fig,ax = plt.subplots(figsize=(8,8))\n",
    "    sns.boxplot(x=df_nom[column],y=df_nom['score'],data=df_nom, ax=ax,width=0.2)\n",
    "    plt.xlabel(i,fontsize=20)\n",
    "    plt.ylabel('score',fontsize=20)\n",
    "    plt.xticks(rotation=45,fontsize=15)\n",
    "    plt.show()"
   ]
  },
  {
   "cell_type": "code",
   "execution_count": 20,
   "metadata": {},
   "outputs": [],
   "source": [
    "def get_stat_dif(column):\n",
    "    #функция проверки статистических различий для значений признака\n",
    "    \"\"\"checkfunction of the statistical diversity for values of a column-attribute \"\"\"\n",
    "    \n",
    "    cols = df.loc[:, column].value_counts().index[:5]\n",
    "    combinations_all = list(combinations(cols, 2))\n",
    "    for comb in combinations_all:\n",
    "        if ttest_ind(df.loc[df.loc[:, column] == comb[0], 'score'], \n",
    "                     df.loc[df.loc[:, column] == comb[1], 'score'],\n",
    "                    nan_policy='omit').pvalue\\\n",
    "            <= 0.05/len(combinations_all): # Учли поправку Бонферони\n",
    "            print('Найдены статистически значимые различия для колонки', column)\n",
    "            break \n",
    "    "
   ]
  },
  {
   "cell_type": "code",
   "execution_count": 21,
   "metadata": {},
   "outputs": [],
   "source": [
    "# Для наглядности можно разделить датафрейм по двум признакам\n",
    "\n",
    "df_num = pd.DataFrame(df[['age','m_edu','f_edu','traveltime','studytime','failures','famrel','freetime',\n",
    "   'go_out','health','absences','score']])\n",
    "\n",
    "# df_num - датафрейм количественых признаков ( num - number)\n",
    "\n",
    "df_nom = pd.DataFrame(df[['school','sex','address','famsize','p_status','m_job','f_job','reason',\n",
    "                      'guardian','schoolsup','famsup','paid',\n",
    "                      'activities','nursery','higher','internet','romantic','score']])\n",
    "\n",
    "# df_nom - датафрейм с номинативными признаками ( nom - nominative)\n",
    "# Так как основной покзататель, с которым определяется связь является score, то следует включить его в номинативный датасет"
   ]
  },
  {
   "cell_type": "markdown",
   "metadata": {},
   "source": [
    "## ***- РАЗДЕЛ 1 -***"
   ]
  },
  {
   "cell_type": "markdown",
   "metadata": {},
   "source": [
    "### Задачи\n",
    "\n",
    "* Рассмотренить распределение признака для числовых переменных\n",
    "* Устранить выбросы\n",
    "* По необходимости преобразовать данные"
   ]
  },
  {
   "cell_type": "markdown",
   "metadata": {},
   "source": [
    "Как распределены первые два признака? \n",
    "- возраст\n",
    "- пол"
   ]
  },
  {
   "cell_type": "code",
   "execution_count": 22,
   "metadata": {},
   "outputs": [
    {
     "name": "stdout",
     "output_type": "stream",
     "text": [
      "Признак (age)\n"
     ]
    },
    {
     "data": {
      "text/plain": [
       "22      1\n",
       "21      1\n",
       "20      3\n",
       "19     24\n",
       "18     82\n",
       "17     98\n",
       "16    104\n",
       "15     82\n",
       "Name: age, dtype: int64"
      ]
     },
     "metadata": {},
     "output_type": "display_data"
    },
    {
     "name": "stdout",
     "output_type": "stream",
     "text": [
      "Общее количество наблюдений: 395\n",
      "Количество уникальных значений: 8\n",
      "Количество отсутствующих значений: 0, 0% \n",
      "\n"
     ]
    },
    {
     "data": {
      "text/plain": [
       "count    395.000000\n",
       "mean      16.696203\n",
       "std        1.276043\n",
       "min       15.000000\n",
       "25%       16.000000\n",
       "50%       17.000000\n",
       "75%       18.000000\n",
       "max       22.000000\n",
       "Name: age, dtype: float64"
      ]
     },
     "metadata": {},
     "output_type": "display_data"
    },
    {
     "name": "stdout",
     "output_type": "stream",
     "text": [
      "Количество учащихся в возрасте 15 лет: 82, 0.208 %\n",
      "Количество учащихся в возрасте 16 лет: 104, 0.263 %\n",
      "Количество учащихся в возрасте 17 лет: 98, 0.248 %\n",
      "Количество учащихся в возрасте 18 лет: 82, 0.208 %\n",
      "Количество учащихся в возрасте 19 лет: 24, 0.061 %\n",
      "Количество учащихся в возрасте 20 лет: 3, 0.008 %\n",
      "Количество учащихся в возрасте 21 лет: 1, 0.003 %\n",
      "Количество учащихся в возрасте 22 лет: 1, 0.003 %\n",
      "\n",
      "\n",
      "Признак (sex)\n"
     ]
    },
    {
     "data": {
      "text/plain": [
       "M    187\n",
       "F    208\n",
       "Name: sex, dtype: int64"
      ]
     },
     "metadata": {},
     "output_type": "display_data"
    },
    {
     "name": "stdout",
     "output_type": "stream",
     "text": [
      "Общее количество наблюдений: 395\n",
      "Количество уникальных значений: 2\n",
      "Количество отсутствующих значений: 0, 0% \n",
      "\n",
      "Количество девочек больше мальчиков на 21\n"
     ]
    },
    {
     "data": {
      "image/png": "[encoded data removed]",
      "text/plain": [
       "<Figure size 1800x720 with 2 Axes>"
      ]
     },
     "metadata": {
      "needs_background": "light"
     },
     "output_type": "display_data"
    }
   ],
   "source": [
    "# Создание фигуры\n",
    "fig, ax = plt.subplots(1,2,figsize=(25,10))\n",
    "# Настройка параметров\n",
    "plt.xticks(fontsize=22)\n",
    "\n",
    "\n",
    "# Создание первого графика\n",
    "ax[0].hist(df['age'],bins=9,color='cornsilk',edgecolor='white');\n",
    "\n",
    "# Настройка параметров \n",
    "ax[0].set_title('Возраст',fontsize=25)\n",
    "ax[0].grid()\n",
    "ax[0].set_facecolor('black')\n",
    "ax[0].tick_params(axis=\"both\", labelsize=15)\n",
    "\n",
    "\n",
    "# Создание второго графика \n",
    "bars_sex = ax[1].bar(df['sex'].value_counts().index,df['sex'].value_counts(),width=0.45)\n",
    "\n",
    "# Настройка параметров\n",
    "ax[1].set_title('Пол',fontsize=25)\n",
    "ax[1].set_facecolor('black')\n",
    "ax[1].tick_params(axis=\"both\", labelsize=19)\n",
    "\n",
    "\n",
    "# Установка цветов\n",
    "bars_sex[0].set_color('pink')\n",
    "bars_sex[0].set_edgecolor('white')\n",
    "bars_sex[1].set_color('skyblue')\n",
    "bars_sex[1].set_edgecolor('white')\n",
    "\n",
    "\n",
    "# Вывод на экран значений каждого из баров\n",
    "valueprinter(bars_sex)\n",
    "\n",
    "\n",
    "# Описание\n",
    "journalist(['age'])\n",
    "display(df['age'].describe())\n",
    "for i in range(15,23):\n",
    "    print('Количество учащихся в возрасте', i ,'лет: {},'.format(len(df[df['age'] == i])),\n",
    "          round(len(df[df['age'] == i])/395,3),'%')\n",
    "print('\\n')\n",
    "journalist(['sex'])\n",
    "print('Количество девочек больше мальчиков на {}'.format(df['sex'].value_counts()[0]-df['sex'].value_counts()[1]))"
   ]
  },
  {
   "cell_type": "markdown",
   "metadata": {},
   "source": [
    "Интересно взглянуть на оценки старшего контингента учащихся"
   ]
  },
  {
   "cell_type": "code",
   "execution_count": 23,
   "metadata": {},
   "outputs": [
    {
     "data": {
      "text/plain": [
       "127    45.0\n",
       "153     0.0\n",
       "210    40.0\n",
       "247    40.0\n",
       "257    55.0\n",
       "270     NaN\n",
       "296     0.0\n",
       "304    65.0\n",
       "306    90.0\n",
       "307    40.0\n",
       "308    60.0\n",
       "309    50.0\n",
       "310     0.0\n",
       "311    65.0\n",
       "312     NaN\n",
       "313    55.0\n",
       "314    65.0\n",
       "315    55.0\n",
       "336    65.0\n",
       "340    55.0\n",
       "350     NaN\n",
       "353    40.0\n",
       "370    45.0\n",
       "376    75.0\n",
       "383     0.0\n",
       "387     0.0\n",
       "390    45.0\n",
       "392    35.0\n",
       "394    45.0\n",
       "Name: score, dtype: float64"
      ]
     },
     "execution_count": 23,
     "metadata": {},
     "output_type": "execute_result"
    }
   ],
   "source": [
    "df[df['age'] >= 19]['score']"
   ]
  },
  {
   "cell_type": "markdown",
   "metadata": {},
   "source": [
    "Показатель возраста распределен неравномерно\n",
    "\n",
    "В датафрейме присутсвует 29 ученика, чей возраст, в контексте школьного обучения, куда выше среднего. Почему школьного? Если заметить, то наибольшее количество наблюдений сконцентрировано вокруг 15-16-17 лет , что говорит о том, что данные собраны на учащихся старших классов школы, тем более по условию говорится, что рассматривается ученики школ. Конечно, это могла бы быть какая-то высшая школа, а при переводе на русский язык данный контекст был утрачен, однако данные подтверждают то, что речь идет не об институте или даже колледже, а именно о средней школе.\n",
    "\n",
    "Предлагаю устранить из данных тех, кто старше 19 лет ( включительно) , концентрируя свои силы на целевой группе, вместо того, чтобы стараться охватить всех возможных учеников. \n",
    "Полагаю, что явно для того, кто по какой-либо угодно причине все еще учится в 19 лет ( или в еще большем возрасте) в школе, для успешной сдачи любого экзамена должен будет обладать теми же признаками, которые соответствуют ученикам с высокой вероятностю сдачи экзамена, то есть тех признаков, которые действительно будут влиять на вероятность благоприятного результата. Вряд ли сам возраст ( в данном случае) может сильно повлиять на сдачу экзамена. \n",
    "\n",
    "Если модель будет хорошо предсказывать результаты учеников от 15 до 17 лет, то она явно справится и с аномальным значением по возрасту. Поэтому для ее корректной работы и построения лучше избавить данные от таких возрастных аномалий, тем более, они занимают очень незначительную часть общего набора данных, чуть менее 9%. Эта величина не способна количественно повлиять на результаты исследования.\n",
    "\n",
    "В дальнейшем, при статистическом анализе я еще рассмотрю подробнее этот вопрос, где будут присутствовать дополнительные аргументы, поддерживающие высказанную идею, а именно, почему лучше исключить на данном этапе чересчур взрослых школьников.\n",
    "____________\n",
    "\n",
    "Что касается пола , то видно, что количество мальчиков и девочек в данных примерно одинаковое,\n",
    "\n",
    "52% девочек и 48% мальчиков. Вполне подходящий разброс данных, это хорошо, так как не присутствует значительный гендерный перевес\n",
    "\n",
    "С данными можно производить дальнейшую работу"
   ]
  },
  {
   "cell_type": "code",
   "execution_count": 24,
   "metadata": {},
   "outputs": [],
   "source": [
    "df = df[df['age'] <= 18] # исключение аномальых учеников"
   ]
  },
  {
   "cell_type": "markdown",
   "metadata": {},
   "source": [
    "Как теперь выглядит распределение возраста среди учеников?"
   ]
  },
  {
   "cell_type": "code",
   "execution_count": 25,
   "metadata": {
    "scrolled": false
   },
   "outputs": [
    {
     "data": {
      "text/plain": [
       "count    366.000000\n",
       "mean      16.491803\n",
       "std        1.072030\n",
       "min       15.000000\n",
       "25%       16.000000\n",
       "50%       16.000000\n",
       "75%       17.000000\n",
       "max       18.000000\n",
       "Name: age, dtype: float64"
      ]
     },
     "metadata": {},
     "output_type": "display_data"
    },
    {
     "name": "stdout",
     "output_type": "stream",
     "text": [
      "Признак (sex)\n"
     ]
    },
    {
     "data": {
      "text/plain": [
       "M    173\n",
       "F    193\n",
       "Name: sex, dtype: int64"
      ]
     },
     "metadata": {},
     "output_type": "display_data"
    },
    {
     "name": "stdout",
     "output_type": "stream",
     "text": [
      "Общее количество наблюдений: 366\n",
      "Количество уникальных значений: 2\n",
      "Количество отсутствующих значений: 0, 0% \n",
      "\n",
      "\n",
      " Количество девочек больше мальчиков на 20 человек\n"
     ]
    },
    {
     "data": {
      "image/png": "[encoded data removed]",
      "text/plain": [
       "<Figure size 1800x720 with 1 Axes>"
      ]
     },
     "metadata": {
      "needs_background": "light"
     },
     "output_type": "display_data"
    }
   ],
   "source": [
    "# Создание фигуры\n",
    "fig, ax = plt.subplots(figsize=(25,10))\n",
    "\n",
    "# Настройка параметров\n",
    "plt.xticks(fontsize=22)\n",
    "plt.yticks(fontsize=22)\n",
    "plt.xticks([x for x in range(15,19)], ['15','16','17','18']);\n",
    "\n",
    "# Создание фигуры\n",
    "age_bars = ax.bar(df['age'].value_counts().index, df['age'].value_counts(),color='cornsilk',width=.3)\n",
    "\n",
    "# Настройка параметров\n",
    "ax.set_title('Возраст',fontsize=25)\n",
    "ax.set_ylabel('Количество учеников',fontsize=15)\n",
    "ax.set_facecolor('black')\n",
    "\n",
    "# Вывод на экран значений каждого из баров\n",
    "valueprinter(age_bars)\n",
    "\n",
    "# Описание\n",
    "display(df['age'].describe())\n",
    "journalist(['sex'])\n",
    "print('\\n','Количество девочек больше мальчиков на {} человек'.format(df['sex'].value_counts()[0]-df['sex'].value_counts()[1]))\n"
   ]
  },
  {
   "cell_type": "markdown",
   "metadata": {},
   "source": [
    "Видно, что теперь количество студентов в каждой возрастной группе достаточно хорошо распределены и отсутствуют какие-либо аномальные значения, если и имеется связь между возрастом и оценками ( что разумеется абсурдно ) , то в дальнейшем, на таких равномерно распределенных данных обязательно должна будет проявиться значимая статистическая взаимосвязь.\n",
    "\n",
    "С данными можно работать\n",
    "________________"
   ]
  },
  {
   "cell_type": "markdown",
   "metadata": {},
   "source": [
    "-------------\n",
    "Рассмотрим показатели образования отца и матери.\n",
    "Лучше рассмотреть их по отдельности, работая в копии документа.\n",
    "Известно, что информация об образовании некоторых родителей отсутсвует, предлагаю, для дальнейшего анализа исключить пустые значения.\n",
    "Удалять данные следует последовательно в каждом столбце, а не одновременно все, так сохранится больше значений"
   ]
  },
  {
   "cell_type": "markdown",
   "metadata": {},
   "source": [
    "В ходе написания кода выяснилось, что в одном из строк образования отца указано значение 40 в шкале от 0 - 4, \n",
    "видимо забыли поставить разделительный знак,\n",
    "вряд ли это выброс, прежде, чем строить график, следует это исправить\n"
   ]
  },
  {
   "cell_type": "code",
   "execution_count": 26,
   "metadata": {},
   "outputs": [],
   "source": [
    "df.iloc[11,7] = 4.0"
   ]
  },
  {
   "cell_type": "code",
   "execution_count": 27,
   "metadata": {
    "scrolled": false
   },
   "outputs": [],
   "source": [
    "df_mother = df.loc[:,'m_edu'].copy()\n",
    "df_father = df.loc[:,'f_edu'].copy()\n",
    "\n",
    "#df_m_edu = df_m_edu.astype('int64')\n",
    "#df_f_edu = df_f_edu.astype('int64')\n",
    "\n",
    "df_mother.dropna(inplace=True)\n",
    "df_father.dropna(inplace=True)"
   ]
  },
  {
   "cell_type": "code",
   "execution_count": 28,
   "metadata": {
    "scrolled": false
   },
   "outputs": [
    {
     "name": "stdout",
     "output_type": "stream",
     "text": [
      "0 - нет, 1 - 4 класса, 2 - 5-9 классы, 3 - среднее специальное или 11 классов, 4 - высшее \n",
      "\n",
      "Изначально отсутствовало 3 значения у матерей и 23 значения у отцов \n",
      "\n",
      "Признак (m_edu)\n"
     ]
    },
    {
     "data": {
      "text/plain": [
       "4.0    127\n",
       "3.0     87\n",
       "2.0     97\n",
       "1.0     50\n",
       "0.0      2\n",
       "Name: m_edu, dtype: int64"
      ]
     },
     "metadata": {},
     "output_type": "display_data"
    },
    {
     "name": "stdout",
     "output_type": "stream",
     "text": [
      "Общее количество наблюдений: 363\n",
      "Количество уникальных значений: 5\n",
      "Количество отсутствующих значений: 3, 1% \n",
      "\n",
      "Признак (f_edu)\n"
     ]
    },
    {
     "data": {
      "text/plain": [
       "4.0    87\n",
       "3.0    89\n",
       "2.0    99\n",
       "1.0    66\n",
       "0.0     2\n",
       "Name: f_edu, dtype: int64"
      ]
     },
     "metadata": {},
     "output_type": "display_data"
    },
    {
     "name": "stdout",
     "output_type": "stream",
     "text": [
      "Общее количество наблюдений: 343\n",
      "Количество уникальных значений: 5\n",
      "Количество отсутствующих значений: 23, 7% \n",
      "\n"
     ]
    },
    {
     "data": {
      "image/png": "[encoded data removed]",
      "text/plain": [
       "<Figure size 1152x504 with 2 Axes>"
      ]
     },
     "metadata": {
      "needs_background": "light"
     },
     "output_type": "display_data"
    }
   ],
   "source": [
    "# Создание фигуры\n",
    "fig, ax = plt.subplots(1,2)\n",
    "\n",
    "# Настройка параметров\n",
    "fig.set_figwidth(16)    #  ширина Figure\n",
    "fig.set_figheight(7)    #  высота Figure\n",
    "\n",
    "# Создание фигуры\n",
    "mother_bar = ax[0].bar(df_mother.value_counts().index, df_mother.value_counts(), width=0.4, color='pink',edgecolor='white');\n",
    "father_bar = ax[1].bar(df_father.value_counts().index, df_father.value_counts(), width=0.4, color='skyblue',edgecolor='white');\n",
    "\n",
    "# Настройка параметров\n",
    "ax[0].set_title(\"Уровень образования матерей\",size=14)\n",
    "ax[1].set_title(\"Уровень образования отцов\",size=14)\n",
    "ax[0].set_facecolor('black')\n",
    "ax[1].set_facecolor('black')\n",
    "\n",
    "# Вывод на экран значений каждого из баров\n",
    "valueprinter(mother_bar,ycoord=1.31,fontsize=10,xfixed=-5.7)\n",
    "valueprinter(father_bar,xcoord=4,ycoord=0.2,fontsize=10)\n",
    "\n",
    "# Описание\n",
    "print('0 - нет, 1 - 4 класса, 2 - 5-9 классы, 3 - среднее специальное или 11 классов, 4 - высшее','\\n')\n",
    "print('Изначально отсутствовало {} значения у матерей и'.format(df['m_edu'].isna().sum()),\n",
    "      '{} значения у отцов'.format(df['f_edu'].isna().sum()),'\\n')\n",
    "journalist(['m_edu','f_edu'])"
   ]
  },
  {
   "cell_type": "markdown",
   "metadata": {},
   "source": [
    "В данных было одно искаженное значение, данный вопрос был благополучно решен.\n",
    "\n",
    "Значения параметров образования каждого из родителей в целом  распределены без каких-либо явных недостатков, с данными можно работать. В данной выборке заметно, что более высокое образование сконцентрирована среди матерей, среди 343 отцов однако больше тех, кто отучился только 5-9 классов.\n",
    "____________________"
   ]
  },
  {
   "cell_type": "markdown",
   "metadata": {},
   "source": [
    "______________\n",
    "Cколько времени ученики тратят на дорогу?"
   ]
  },
  {
   "cell_type": "code",
   "execution_count": 29,
   "metadata": {},
   "outputs": [
    {
     "name": "stdout",
     "output_type": "stream",
     "text": [
      "1 - <15 мин., 2 - 15-30 мин., 3 - 30-60 мин., 4 - >60 мин \n",
      "\n",
      "Признак (traveltime)\n"
     ]
    },
    {
     "data": {
      "text/plain": [
       "4.0      7\n",
       "3.0     19\n",
       "2.0     90\n",
       "1.0    223\n",
       "Name: traveltime, dtype: int64"
      ]
     },
     "metadata": {},
     "output_type": "display_data"
    },
    {
     "name": "stdout",
     "output_type": "stream",
     "text": [
      "Общее количество наблюдений: 339\n",
      "Количество уникальных значений: 4\n",
      "Количество отсутствующих значений: 27, 8% \n",
      "\n"
     ]
    },
    {
     "data": {
      "image/png": "[encoded data removed]",
      "text/plain": [
       "<Figure size 720x576 with 1 Axes>"
      ]
     },
     "metadata": {
      "needs_background": "light"
     },
     "output_type": "display_data"
    }
   ],
   "source": [
    "df_travel = df['traveltime'].copy()\n",
    "\n",
    "# Создание фигуры\n",
    "fig, ax = plt.subplots()\n",
    "\n",
    "# Настройка параметров\n",
    "fig.set_figwidth(10)  \n",
    "fig.set_figheight(8)\n",
    "\n",
    "# Создание графика\n",
    "travel_bar = ax.bar(df_travel.value_counts().reset_index()['index'],\n",
    "                    df_travel.value_counts().reset_index()['traveltime'],width=0.4,\n",
    "      color='cornsilk',edgecolor='white')\n",
    "\n",
    "# Настройка параметров\n",
    "ax.set_xlabel('Значения',fontsize=14)\n",
    "ax.set_ylabel('Количество учеников',fontsize=14)\n",
    "ax.set_xticks([1,2,3,4])\n",
    "ax.set_title('Время в пути до школы',size=14)\n",
    "ax.set_facecolor('black')\n",
    "\n",
    "# Вывод на экран значений каждого из баров\n",
    "valueprinter(travel_bar,xcoord=4)\n",
    "\n",
    "# Описание\n",
    "print('1 - <15 мин., 2 - 15-30 мин., 3 - 30-60 мин., 4 - >60 мин','\\n')\n",
    "journalist(['traveltime'])"
   ]
  },
  {
   "cell_type": "markdown",
   "metadata": {},
   "source": [
    "Большинство учеников вероятно живет рядом со школой, ( вероятно живет, потому что неизвестно, как ученики добираются до школы, известно лишь время пути). Абсолютное большинство тратит на дорогу до 30 минут, 65% которых добирается до школы менее, чем за 15 минут.\n",
    "\n",
    "Аномальные значения отсутствуют, однако их отсутсвие обусловлено только формой записи, на самом же деле неизвестно, сколько времени на дорогу тратят те студенты, которые добираются до школы условно больше, чем 60 минут. Однако для построения модели в данном случае это будет несущественно. Данные подготовлены для дальнейшей работы\n",
    "___________"
   ]
  },
  {
   "cell_type": "markdown",
   "metadata": {},
   "source": [
    "_________\n",
    "Cколько времени ученики тратят на учебу вне школы?"
   ]
  },
  {
   "cell_type": "code",
   "execution_count": 30,
   "metadata": {},
   "outputs": [
    {
     "name": "stdout",
     "output_type": "stream",
     "text": [
      "1 - <2 часов, 2 - 2-5 часов, 3 - 5-10 часов, 4 - >10 часов \n",
      "\n",
      "Признак (studytime)\n"
     ]
    },
    {
     "data": {
      "text/plain": [
       "4.0     26\n",
       "3.0     59\n",
       "2.0    180\n",
       "1.0     95\n",
       "Name: studytime, dtype: int64"
      ]
     },
     "metadata": {},
     "output_type": "display_data"
    },
    {
     "name": "stdout",
     "output_type": "stream",
     "text": [
      "Общее количество наблюдений: 360\n",
      "Количество уникальных значений: 4\n",
      "Количество отсутствующих значений: 6, 2% \n",
      "\n"
     ]
    },
    {
     "data": {
      "image/png": "[encoded data removed]",
      "text/plain": [
       "<Figure size 720x504 with 1 Axes>"
      ]
     },
     "metadata": {
      "needs_background": "light"
     },
     "output_type": "display_data"
    }
   ],
   "source": [
    "df_studytime = df['studytime'].copy()\n",
    "\n",
    "# Создание фигуры\n",
    "fig, ax = plt.subplots(figsize=(10,7))\n",
    "\n",
    "# Создание графика\n",
    "study_bar = ax.bar(df_studytime.value_counts().reset_index()['index'],\n",
    "                   df_studytime.value_counts().reset_index()['studytime'],width=0.2,\n",
    "      color='cornsilk',edgecolor='white')\n",
    "\n",
    "# Настройка параметров\n",
    "ax.set_facecolor('black')\n",
    "ax.set_xlabel('Значения',fontsize=14)\n",
    "ax.set_ylabel('Количество учеников',fontsize=14)\n",
    "ax.set_xticks([1,2,3,4])\n",
    "ax.set_title('Время на учёбу помимо школы в неделю',size=14)\n",
    "\n",
    "# Вывод на экран значений каждого из баров\n",
    "valueprinter(study_bar,xcoord=5,ycoord=.3,fontsize=10)\n",
    "\n",
    "# Описание\n",
    "print('1 - <2 часов, 2 - 2-5 часов, 3 - 5-10 часов, 4 - >10 часов','\\n')\n",
    "journalist(['studytime'])"
   ]
  },
  {
   "cell_type": "markdown",
   "metadata": {},
   "source": [
    "В среднем ученики занимаются вне школы от 2 до 5 часов. Большая часть тратит на учебу до 5 часов свободного внешкольного времени\n",
    "\n",
    "Аномальные значения отсутствуют, однако их отсутсвие обусловлено только формой записи, однако как и с временем на дорогу, неизвестно сколько времени на учебу вне школы на самом деле тратят те студенты, которые занимаются более 10 часов. Однако и в данном случае для построения дальнейшей модели это не так важно. Значительную разницу в ее работе возможны при следующих условиях:\n",
    "\n",
    "1) изменение метрики в данных ( например более точное ранжирование затраченного времени по схожим параметрам, например не 4 бальная шкала , а 10 бальная)\n",
    "\n",
    "2) значительно большее количество данных\n",
    "\n",
    "3) наличие взаимосвязи между оценками и количеством времени на обучение ( которая разумеется и очевидно итак есть )\n",
    "\n",
    "Данные готовы для работы\n",
    "_______________"
   ]
  },
  {
   "cell_type": "markdown",
   "metadata": {},
   "source": [
    "__________\n",
    "\n",
    "Поскольку семейные отношения, свободное время после школы, проведение времени с друзьями и текущее состояние здоровья оцениваются по 5 бальной шкале, то для удобства можно рассмотреть их на одном графике\n",
    "\n",
    "famrel - где семейные отношения (от 1 - очень плохо до 5 - очень хорошо)\n",
    "\n",
    "freetime - свободное время после школы (от 1 - очень мало до 5 - очень мого)\n",
    "\n",
    "go_out - проведение времени с друзьями (от 1 - очень мало до 5 - очень много)\n",
    "\n",
    "health - текущее состояние здоровья (от 1 - очень плохо до 5 - очень хорошо)\n",
    "\n",
    "В процессе выяснилось, что одно значение в столбце семейных отношений отрицательное, заранее следует это исправить, так как это скорее всего просто является ошибкой ввода данных"
   ]
  },
  {
   "cell_type": "code",
   "execution_count": 31,
   "metadata": {},
   "outputs": [],
   "source": [
    "df.loc[25,'famrel'] = 1"
   ]
  },
  {
   "cell_type": "code",
   "execution_count": 32,
   "metadata": {},
   "outputs": [],
   "source": [
    "# необходимые значения\n",
    "group = df.iloc[:,[24,25,26,27]].copy()"
   ]
  },
  {
   "cell_type": "code",
   "execution_count": 33,
   "metadata": {
    "scrolled": false
   },
   "outputs": [
    {
     "data": {
      "image/png": "[encoded data removed]",
      "text/plain": [
       "<Figure size 1152x504 with 1 Axes>"
      ]
     },
     "metadata": {
      "needs_background": "light"
     },
     "output_type": "display_data"
    },
    {
     "name": "stdout",
     "output_type": "stream",
     "text": [
      "famrel - семейные отношения (от 1 - очень плохо до 5 - очень хорошо)\n",
      "freetime - свободное время после школы (от 1 - очень мало до 5 - очень мого)\n",
      "go_out - проведение времени с друзьями (от 1 - очень мало до 5 - очень много)\n",
      "health - текущее состояние здоровья (от 1 - очень плохо до 5 - очень хорошо)\n",
      "\n",
      "\n",
      "Признак (famrel)\n"
     ]
    },
    {
     "data": {
      "text/plain": [
       "5.0     91\n",
       "4.0    167\n",
       "3.0     58\n",
       "2.0     16\n",
       "1.0      8\n",
       "Name: famrel, dtype: int64"
      ]
     },
     "metadata": {},
     "output_type": "display_data"
    },
    {
     "name": "stdout",
     "output_type": "stream",
     "text": [
      "Общее количество наблюдений: 340\n",
      "Количество уникальных значений: 5\n",
      "Количество отсутствующих значений: 26, 8% \n",
      "\n",
      "Признак (freetime)\n"
     ]
    },
    {
     "data": {
      "text/plain": [
       "5.0     32\n",
       "4.0    103\n",
       "3.0    146\n",
       "2.0     59\n",
       "1.0     17\n",
       "Name: freetime, dtype: int64"
      ]
     },
     "metadata": {},
     "output_type": "display_data"
    },
    {
     "name": "stdout",
     "output_type": "stream",
     "text": [
      "Общее количество наблюдений: 357\n",
      "Количество уникальных значений: 5\n",
      "Количество отсутствующих значений: 9, 3% \n",
      "\n",
      "Признак (go_out)\n"
     ]
    },
    {
     "data": {
      "text/plain": [
       "5.0     50\n",
       "4.0     75\n",
       "3.0    119\n",
       "2.0     94\n",
       "1.0     21\n",
       "Name: go_out, dtype: int64"
      ]
     },
     "metadata": {},
     "output_type": "display_data"
    },
    {
     "name": "stdout",
     "output_type": "stream",
     "text": [
      "Общее количество наблюдений: 359\n",
      "Количество уникальных значений: 5\n",
      "Количество отсутствующих значений: 7, 2% \n",
      "\n",
      "Признак (health)\n"
     ]
    },
    {
     "data": {
      "text/plain": [
       "5.0    129\n",
       "4.0     60\n",
       "3.0     79\n",
       "2.0     40\n",
       "1.0     44\n",
       "Name: health, dtype: int64"
      ]
     },
     "metadata": {},
     "output_type": "display_data"
    },
    {
     "name": "stdout",
     "output_type": "stream",
     "text": [
      "Общее количество наблюдений: 352\n",
      "Количество уникальных значений: 5\n",
      "Количество отсутствующих значений: 14, 4% \n",
      "\n",
      "Отсутсвующие значения\n"
     ]
    },
    {
     "data": {
      "text/plain": [
       "famrel      26\n",
       "freetime     9\n",
       "go_out       7\n",
       "health      14\n",
       "dtype: int64"
      ]
     },
     "metadata": {},
     "output_type": "display_data"
    },
    {
     "name": "stdout",
     "output_type": "stream",
     "text": [
      "4\n"
     ]
    }
   ],
   "source": [
    "# Подготовка данных для отображения на графике\n",
    "labels = ['famrel','freetime','go_out','health']\n",
    "total_values = []\n",
    "for label in labels:\n",
    "    grouped = group[label].value_counts().sort_values().reset_index()\n",
    "    for number in range(0,5):\n",
    "        total_values.append(grouped[label][number])\n",
    "        \n",
    "n = 5\n",
    "final = [total_values[i * n:(i + 1) * n] for i in range((len(total_values) + n - 1) // n )]\n",
    "final = [list(i) for i in zip(*final)]\n",
    "\n",
    "\n",
    "# Создание фигуры\n",
    "fig, ax = plt.subplots(figsize=(16,7))\n",
    "\n",
    "# Настройка параметров\n",
    "barWidth = 0.15\n",
    "\n",
    "# значения каждого стобца   \n",
    "bars1 = final[0]\n",
    "bars2 = final[1]\n",
    "bars3 = final[2]\n",
    "bars4 = final[3]\n",
    "bars5 = final[4]\n",
    "\n",
    "# Позиция столбца на оси Х\n",
    "r1 = np.arange(len(bars1))\n",
    "r2 = [x + barWidth for x in r1]\n",
    "r3 = [x + barWidth for x in r2]\n",
    "r4 = [x + barWidth for x in r3]\n",
    "r5 = [x + barWidth for x in r4]\n",
    "\n",
    "\n",
    "# Создание графика\n",
    "bar1 = ax.bar(r1, bars1, color='paleturquoise', width=barWidth, edgecolor='white', label='1');\n",
    "bar2 = ax.bar(r2, bars2, color='powderblue', width=barWidth, edgecolor='white', label='2');\n",
    "bar3 = ax.bar(r3, bars3, color='skyblue', width=barWidth, edgecolor='white', label='3');\n",
    "bar4 = ax.bar(r4, bars4, color='lightskyblue', width=barWidth, edgecolor='white', label='4');\n",
    "bar5 = ax.bar(r5, bars5, color='navy', width=barWidth, edgecolor='white', label='5');\n",
    "\n",
    "# Имплементация значений\n",
    "valueprinter(bar1,xcoord=5,ycoord=.3,fontsize=10)\n",
    "valueprinter(bar2,xcoord=5,ycoord=.3,fontsize=10)\n",
    "valueprinter(bar3,xcoord=5,ycoord=.3,fontsize=10)\n",
    "valueprinter(bar4,xcoord=5,ycoord=.3,fontsize=10)\n",
    "valueprinter(bar5,xcoord=5,ycoord=.3,fontsize=10)\n",
    "\n",
    "\n",
    "# Добавление хтиков в середину сгруппированных столбцов\n",
    "plt.xticks([r + barWidth for r in range(len(bars1))], labels,size=20);\n",
    "\n",
    "# Настройка параметров\n",
    "ax.set_ylabel('количество учеников',size=14)\n",
    "ax.set_facecolor('black')\n",
    "\n",
    "# Создание подписи и вывод графика \n",
    "plt.legend(fontsize=12)\n",
    "plt.show()\n",
    "\n",
    "# Описание\n",
    "print('famrel - семейные отношения (от 1 - очень плохо до 5 - очень хорошо)')\n",
    "print('freetime - свободное время после школы (от 1 - очень мало до 5 - очень мого)')\n",
    "print('go_out - проведение времени с друзьями (от 1 - очень мало до 5 - очень много)')\n",
    "print('health - текущее состояние здоровья (от 1 - очень плохо до 5 - очень хорошо)')\n",
    "print('\\n')\n",
    "journalist(['famrel','freetime','go_out','health'])\n",
    "print('Отсутсвующие значения')\n",
    "display(group.isna().sum())\n",
    "\n",
    "print(len(bar1))"
   ]
  },
  {
   "cell_type": "markdown",
   "metadata": {},
   "source": [
    "С данными можно работать\n",
    "В данных имелось одно ошибочное значение, оно исправлено. Имеются пустые значения, их точное восстановление не представляется возможным. \n",
    "С данными можно работать. Наглядно видно, что у большинства учеников очнь высокие показатели по каждому из предоставленных параметров. У этого большиства хорошие отношения с родителями, много свободного времени после школы, которое они видимо тратят на общение с друзьями, а также достаточно хорошие показатели состояния здоровья.\n",
    "_____________________"
   ]
  },
  {
   "cell_type": "markdown",
   "metadata": {},
   "source": [
    "___________________\n",
    "Каково распределение внеучебных неудач?\n",
    "\n",
    "failures — количество внеучебных неудач (n, если 1<=n<3, иначе 4)"
   ]
  },
  {
   "cell_type": "code",
   "execution_count": 34,
   "metadata": {
    "scrolled": false
   },
   "outputs": [
    {
     "name": "stdout",
     "output_type": "stream",
     "text": [
      "failures — количество внеучебных неудач (n, если 1<=n<3, иначе 4) \n",
      "\n",
      "Признак (failures)\n"
     ]
    },
    {
     "data": {
      "text/plain": [
       "3.0     11\n",
       "2.0     11\n",
       "1.0     37\n",
       "0.0    287\n",
       "Name: failures, dtype: int64"
      ]
     },
     "metadata": {},
     "output_type": "display_data"
    },
    {
     "name": "stdout",
     "output_type": "stream",
     "text": [
      "Общее количество наблюдений: 346\n",
      "Количество уникальных значений: 4\n",
      "Количество отсутствующих значений: 20, 6% \n",
      "\n"
     ]
    },
    {
     "data": {
      "image/png": "[encoded data removed]",
      "text/plain": [
       "<Figure size 1080x504 with 1 Axes>"
      ]
     },
     "metadata": {
      "needs_background": "light"
     },
     "output_type": "display_data"
    }
   ],
   "source": [
    "df_fail = df.loc[:,'failures'].copy()\n",
    "\n",
    "# Создание фигуры\n",
    "fig, ax = plt.subplots(figsize=(15,7))\n",
    "\n",
    "# Создание графика\n",
    "fail_bars = ax.bar(df_fail.value_counts().reset_index()['index'],\n",
    "                   df_fail.value_counts().reset_index()['failures'],color='cornsilk', width=.4,\n",
    "                   edgecolor='white');\n",
    "\n",
    "# Настройка параметров\n",
    "ax.set_facecolor('black')\n",
    "ax.set_xlabel('Значения',fontsize=15)\n",
    "ax.set_ylabel('Количество учеников',fontsize=15)\n",
    "ax.set_xticks([0,1,2,3])\n",
    "ax.set_title('Количество внеучебных неудач',size=14)\n",
    "\n",
    "# Вывод на экран значений каждого из баров\n",
    "valueprinter(fail_bars,xcoord=3,fontsize=14)\n",
    "\n",
    "# Описание\n",
    "print('failures — количество внеучебных неудач (n, если 1<=n<3, иначе 4)','\\n')\n",
    "journalist(['failures'])"
   ]
  },
  {
   "cell_type": "markdown",
   "metadata": {},
   "source": [
    "Данные в приемлимом состоянии для работы, однако важно учесть, что также, как и со временем на дорогу и внеучебные занятия данный признак имеет очень грубое ранжирование. Не совсем понятно о каких неудачах идет речь, здесь это останется за теми, кто собирал данные. Можно лишь твердо утверждать, что у абсолютного большинства (83%) отсутсвуют эти самые внеучебные неудачи. \n",
    "__________"
   ]
  },
  {
   "cell_type": "markdown",
   "metadata": {},
   "source": [
    "____________\n",
    "Сколько занятий ученики пропустили?"
   ]
  },
  {
   "cell_type": "code",
   "execution_count": 35,
   "metadata": {
    "scrolled": false
   },
   "outputs": [
    {
     "data": {
      "text/plain": [
       "74      54.0\n",
       "183     56.0\n",
       "222    385.0\n",
       "276     75.0\n",
       "Name: absences, dtype: float64"
      ]
     },
     "metadata": {},
     "output_type": "display_data"
    },
    {
     "name": "stdout",
     "output_type": "stream",
     "text": [
      "Количество пустых значений: 11\n"
     ]
    },
    {
     "data": {
      "image/png": "[encoded data removed]",
      "text/plain": [
       "<Figure size 432x288 with 1 Axes>"
      ]
     },
     "metadata": {
      "needs_background": "light"
     },
     "output_type": "display_data"
    }
   ],
   "source": [
    "df['absences'].hist(bins=100)\n",
    "\n",
    "display(df[df['absences'] > 50].iloc[:,28])\n",
    "\n",
    "# Взглянем подробнее\n",
    "print('Количество пустых значений: {}'.format(df['absences'].isna().sum()))"
   ]
  },
  {
   "cell_type": "markdown",
   "metadata": {},
   "source": [
    " В датафрейме наибольшее количество сконценртировано в диапазоне от 0 - 25 , имеются 'особо удаленные' и однозначный выброс. \n",
    " Полагаю, что ученик, который отсутствовал 385 занятий либо вообще не ходил, либо числился заочно. Возможно был на домашнем обучении.\n",
    " чтобы не терять остальные парметры в наблюдении, предлагаю изменить это значение на 38. Одно значение не сыграет никакой роли в дальнейшем анализе и построении модели."
   ]
  },
  {
   "cell_type": "code",
   "execution_count": 36,
   "metadata": {},
   "outputs": [],
   "source": [
    "df.loc[222,'absences'] = 38"
   ]
  },
  {
   "cell_type": "code",
   "execution_count": 37,
   "metadata": {
    "scrolled": false
   },
   "outputs": [
    {
     "name": "stdout",
     "output_type": "stream",
     "text": [
      "Распределение среди всех учеников\n"
     ]
    },
    {
     "data": {
      "text/plain": [
       "count    355.000000\n",
       "mean       5.549296\n",
       "std        7.937946\n",
       "min        0.000000\n",
       "25%        0.000000\n",
       "50%        4.000000\n",
       "75%        8.000000\n",
       "max       75.000000\n",
       "Name: absences, dtype: float64"
      ]
     },
     "metadata": {},
     "output_type": "display_data"
    },
    {
     "name": "stdout",
     "output_type": "stream",
     "text": [
      "\n",
      "\n",
      "Распределение среди 8ми наиболее посещающих занятия\n"
     ]
    },
    {
     "data": {
      "text/plain": [
       "count     8.000000\n",
       "mean      7.000000\n",
       "std       4.898979\n",
       "min       0.000000\n",
       "25%       3.500000\n",
       "50%       7.000000\n",
       "75%      10.500000\n",
       "max      14.000000\n",
       "Name: index, dtype: float64"
      ]
     },
     "metadata": {},
     "output_type": "display_data"
    },
    {
     "name": "stdout",
     "output_type": "stream",
     "text": [
      "Признак (absences)\n",
      "Общее количество наблюдений: 355\n",
      "Количество уникальных значений: 33\n",
      "Количество отсутствующих значений: 11, 3% \n",
      "\n"
     ]
    },
    {
     "data": {
      "image/png": "[encoded data removed]",
      "text/plain": [
       "<Figure size 1440x720 with 2 Axes>"
      ]
     },
     "metadata": {},
     "output_type": "display_data"
    }
   ],
   "source": [
    "df_walker = df['absences'].copy()\n",
    "\n",
    "# Создание фигуры\n",
    "fig, ax = plt.subplots(figsize=(20,10))\n",
    "\n",
    "# Создание графика\n",
    "main_bar = ax.bar(df_walker.value_counts().reset_index()['index'],\n",
    "                  df_walker.value_counts().reset_index()['absences'],color='cornsilk',edgecolor='white')\n",
    "\n",
    "# Настройка параметров\n",
    "ax.set_xlabel('Количество пропусков',fontsize=15)\n",
    "ax.set_ylabel('Количество учеников',fontsize=15)\n",
    "ax.set_facecolor('black')\n",
    "ax.set_title('Количество пропущенных занятий',size=15)\n",
    "\n",
    "# Вывод на экран значений каждого из баров\n",
    "valueprinter(main_bar,xcoord=7,fontsize=10)\n",
    "for i in range(0,8):\n",
    "    main_bar[i].set_color('orange')\n",
    "\n",
    "    \n",
    "    \n",
    "# ***Создание дополнительного графика***\n",
    "\n",
    "\n",
    "# Создание фигуры\n",
    "insert_axes = fig.add_axes([0.38, 0.35, 0.5, 0.5])\n",
    "\n",
    "# Создание графика\n",
    "additional_bar = insert_axes.bar(df_walker.value_counts().reset_index()['index'].head(8),\n",
    "                df_walker.value_counts().reset_index()['absences'].head(8),color='black',edgecolor='white',\n",
    "               align='center')\n",
    "\n",
    "# Настройка параметров\n",
    "insert_axes.tick_params(axis='both', colors='white')\n",
    "insert_axes.set_xticks(np.arange(0,15,step=1))\n",
    "insert_axes.set_xticklabels([0,'',1,'',3,'',4,'',5,'',6,'',7,'',8])\n",
    "insert_axes.set_xlabel('Количество пропусков',fontsize=15,color='w')\n",
    "insert_axes.set_ylabel('Количество учеников',fontsize=15,color='w')\n",
    "insert_axes.set_facecolor('cornsilk')\n",
    "insert_axes.grid(color='black')\n",
    "\n",
    "# Вывод на экран значений каждого из баров\n",
    "valueprinter(additional_bar,xcoord=5,bbox_color='orange')\n",
    "\n",
    "# Описание\n",
    "print('Распределение среди всех учеников')\n",
    "display(df_walker.describe())\n",
    "print('\\n')\n",
    "print('Распределение среди 8ми наиболее посещающих занятия')\n",
    "display(df_walker.value_counts().reset_index()['index'].head(8).describe())\n",
    "print('Признак ({})'.format('absences')) # название признака\n",
    "print('Общее количество наблюдений: {}'.format(df['absences'].value_counts().sum()))  \n",
    "print('Количество уникальных значений: {}'.format(df['absences'].nunique())) \n",
    "print('Количество отсутствующих значений: {}, {:.0f}%'.format(df['absences'].isna().sum(),\n",
    "                                                    round((df['absences'].isna().sum()/df['absences'].value_counts().sum()),\n",
    "                                                                        2)*100),'\\n')     "
   ]
  },
  {
   "cell_type": "markdown",
   "metadata": {},
   "source": [
    "Данные подготовлены для дальнейшей работы. \n",
    "В процессе была выявлена однозначная аномалия , где у ученика было 385 пропусков. \n",
    "4 ученика, которые имеют от 35-75 пропусков занятий может и являются аномалией, только вряд ли количественной. \n",
    "Ученики, которые редко посещают школы существуют во многих классах, в жизни это совершенно не является аномалией, а скорее существующим порядком вещей. Эти 4, вырывающиеся из общего контекста учеников, можно оставить. Их наличие вряд ли повлияет на дальнейшуий анализ с учетом того, что их всего 4 человека из почти 400. Конечно, их можно и удалить, однако оправдано ли это? Любопытно взглянуть на их оценки ( чуть ниже выведен датафрейм ). У 3 из 4 прогульщиков общий балл ниже среднего, что вполне кажется логичным. Здесь не аблюдается никаких аномалий, кроме 85 баллов у номера 222. Возможно это ученик, который учится на дому или по еще каким-то причинам не посещал школу. В любом случае 4 человека ни на что не влияют в данном случае, а их оценки не являются чем-то странным при учете их посещения. Оставляем данные как есть."
   ]
  },
  {
   "cell_type": "code",
   "execution_count": 38,
   "metadata": {},
   "outputs": [
    {
     "data": {
      "text/html": [
       "<div>\n",
       "<style scoped>\n",
       "    .dataframe tbody tr th:only-of-type {\n",
       "        vertical-align: middle;\n",
       "    }\n",
       "\n",
       "    .dataframe tbody tr th {\n",
       "        vertical-align: top;\n",
       "    }\n",
       "\n",
       "    .dataframe thead th {\n",
       "        text-align: right;\n",
       "    }\n",
       "</style>\n",
       "<table border=\"1\" class=\"dataframe\">\n",
       "  <thead>\n",
       "    <tr style=\"text-align: right;\">\n",
       "      <th></th>\n",
       "      <th>absences</th>\n",
       "      <th>score</th>\n",
       "    </tr>\n",
       "  </thead>\n",
       "  <tbody>\n",
       "    <tr>\n",
       "      <td>74</td>\n",
       "      <td>54.0</td>\n",
       "      <td>55.0</td>\n",
       "    </tr>\n",
       "    <tr>\n",
       "      <td>183</td>\n",
       "      <td>56.0</td>\n",
       "      <td>40.0</td>\n",
       "    </tr>\n",
       "    <tr>\n",
       "      <td>222</td>\n",
       "      <td>38.0</td>\n",
       "      <td>85.0</td>\n",
       "    </tr>\n",
       "    <tr>\n",
       "      <td>276</td>\n",
       "      <td>75.0</td>\n",
       "      <td>45.0</td>\n",
       "    </tr>\n",
       "  </tbody>\n",
       "</table>\n",
       "</div>"
      ],
      "text/plain": [
       "     absences  score\n",
       "74       54.0   55.0\n",
       "183      56.0   40.0\n",
       "222      38.0   85.0\n",
       "276      75.0   45.0"
      ]
     },
     "execution_count": 38,
     "metadata": {},
     "output_type": "execute_result"
    }
   ],
   "source": [
    "df.loc[:,['absences','score']].query('absences > 34')"
   ]
  },
  {
   "cell_type": "markdown",
   "metadata": {},
   "source": [
    "________________"
   ]
  },
  {
   "cell_type": "markdown",
   "metadata": {},
   "source": [
    "__________________\n",
    "Как распределены оценки по экзамену среди участников? "
   ]
  },
  {
   "cell_type": "code",
   "execution_count": 39,
   "metadata": {
    "scrolled": false
   },
   "outputs": [
    {
     "name": "stdout",
     "output_type": "stream",
     "text": [
      "Количество пустых значений: 3\n",
      "Количество 0 оценок: 32\n"
     ]
    },
    {
     "data": {
      "image/png": "[encoded data removed]",
      "text/plain": [
       "<Figure size 432x288 with 1 Axes>"
      ]
     },
     "metadata": {
      "needs_background": "light"
     },
     "output_type": "display_data"
    }
   ],
   "source": [
    "df['score'].hist()\n",
    "df['score'].describe()\n",
    "\n",
    "print('Количество пустых значений: {}'.format(df['score'].isna().sum()))\n",
    "print('Количество 0 оценок: {}'.format(len(df[df['score'] == 0 ])))\n",
    "\n",
    "# В датафрейме имеются те ученики, которые получили 0 оценки, видимо это те, кто не экзамен вовсе"
   ]
  },
  {
   "cell_type": "code",
   "execution_count": 40,
   "metadata": {
    "scrolled": false
   },
   "outputs": [
    {
     "data": {
      "text/plain": [
       "count    363.000000\n",
       "mean      52.892562\n",
       "std       22.680389\n",
       "min        0.000000\n",
       "25%       45.000000\n",
       "50%       55.000000\n",
       "75%       70.000000\n",
       "max      100.000000\n",
       "Name: score, dtype: float64"
      ]
     },
     "metadata": {},
     "output_type": "display_data"
    },
    {
     "name": "stdout",
     "output_type": "stream",
     "text": [
      "Количество 0 оценок: 32 \n",
      "\n",
      "Общее количество наблюдений: 363\n",
      "Количество уникальных значений: 18\n",
      "Количество отсутствующих значений: 3, 1% \n",
      "\n",
      "Гендерное различие между учениками, сдавшими экзамен на 80 баллов и выше:\n"
     ]
    },
    {
     "data": {
      "text/plain": [
       "M    13\n",
       "F    10\n",
       "Name: sex, dtype: int64"
      ]
     },
     "metadata": {},
     "output_type": "display_data"
    },
    {
     "data": {
      "image/png": "[encoded data removed]",
      "text/plain": [
       "<Figure size 864x720 with 1 Axes>"
      ]
     },
     "metadata": {
      "needs_background": "light"
     },
     "output_type": "display_data"
    }
   ],
   "source": [
    "# Создание фигуры\n",
    "fig, ax = plt.subplots(figsize=(12,10))\n",
    "\n",
    "# Создание графика\n",
    "score_bar = ax.barh(df['score'].value_counts().index,df['score'].value_counts(),height=3,color='cornsilk');\n",
    "\n",
    "# Настройка параметров\n",
    "ax.set_facecolor('black')\n",
    "ax.set_xlabel('Количество учеников',fontsize=14);\n",
    "ax.set_ylabel('Оценки',fontsize=14);\n",
    "labels = ['студенты','оценки']\n",
    "ax.text(38,100,'студенты /',color='white',size=21)\n",
    "ax.text(48,100,' баллы',color='yellow',size=21)\n",
    "ax.set_title('Баллы по госэкзамену по математике',size=14)\n",
    "\n",
    "# Вывод значений\n",
    "for elem in score_bar:\n",
    "    plt.text(elem.get_x() + elem.get_width()-0.5,elem.get_y()+elem.get_height()-2,elem.get_width(),\n",
    "            fontsize=10,bbox=dict(facecolor='white'))\n",
    "for elem in score_bar:\n",
    "    plt.text(elem.get_x() + elem.get_width()+1.2,elem.get_y()+elem.get_height()-2,int(elem.get_y()+1.5),\n",
    "            fontsize=10,bbox=dict(facecolor='yellow'))\n",
    "    \n",
    "# Описание\n",
    "display(df['score'].describe())\n",
    "print('Количество 0 оценок: {}'.format(len(df[df['score'] == 0 ])),'\\n')\n",
    "print('Общее количество наблюдений: {}'.format(df['score'].value_counts().sum()))  \n",
    "print('Количество уникальных значений: {}'.format(df['score'].nunique())) \n",
    "print('Количество отсутствующих значений: {}, {:.0f}%'.format(df['score'].isna().sum(),\n",
    "                                                    round((df['score'].isna().sum()/df['score'].value_counts().sum()),\n",
    "                                                                        2)*100),'\\n') \n",
    "print('Гендерное различие между учениками, сдавшими экзамен на 80 баллов и выше:')\n",
    "display(df[df['score'] > 80]['sex'].value_counts())\n",
    "  "
   ]
  },
  {
   "cell_type": "markdown",
   "metadata": {},
   "source": [
    "В данном признаке имеется небольшое количество студентов, которые не набрали ни одного балла ( 32 ученика получили оценку 0). Какова бы не была причина, можно считать, что эти значения не являются ошибкой, так как их достаточно много, скорее их следует относить к тому, что ученики провалили экзамен, физическое их отсутсвие тоже будет являться таковым. Большинство же студентов получила оценки от 50 - 75 баллов. Учеников, набравших более 80 баллов, только 10%. Никакого гендерного различия среди сдавших экзамен на отлично не наблюдается. \n",
    "\n",
    "Данные подходят для дальнейшей работы \n",
    "_________________________"
   ]
  },
  {
   "cell_type": "markdown",
   "metadata": {},
   "source": [
    "## Вывод\n",
    "\n",
    "* Как и было выявленно раньше, ни один признак не имел критического количества пустых значений. \n",
    "\n",
    "\n",
    "* В распределении учеников по их возрасту были выялены 29 учащихся сильно старше среднего значения. Наблюдения устранены из данных ради более точного анализа и построения модели, направленных на целевую группу от 15-18 лет.\n",
    "\n",
    "\n",
    "* В таких параметрах как 'f_edu'(образование отца),'famsup'(образовательная поддержка семьи),'absences'(количество пропущенных занятий) имелись искаженые данные, по одному значению в каждом признаке, после их выявления они были изменены. \n",
    "\n",
    "\n",
    "* В процессе выяснилось, что количество мальчиков и девочек в данных распределено практически одинаково.\n",
    "* Матери на данной выборке в среднем образованнее, чем отцы. \n",
    "* 93% учеников добирается до школы не более, чем за 30 минут. Менее, чем за 15 минут составляет путь до школы у 66% учеников. Вероятно, ученики живут в одном районе со своими школами. \n",
    "* 50% учеников тратит на учебу вне школы от 2-5 часов. 1/4 проводит за занятиями менее 2 часов, другая более 5.\n",
    "* Более, чем у половины из них хорошие отношения с родителями, много свободного времени после школы, которое они видимо тратят на общение с друзьями, а также достаточно хорошие показатели состояния здоровья.\n",
    "* У абсолютного большинства (83%) отсутсвуют внеучебные неудачи. \n",
    "* 60% учащихся практически не пропускают занятия, у трети школьников совсем отсутсвуют пропуски. \n",
    "\n",
    "\n",
    "* Рассмотрены все количественные признаки датафрейма, ни один из них не потребовал серьезных изменений, данные работоспособные."
   ]
  },
  {
   "cell_type": "markdown",
   "metadata": {},
   "source": [
    "___________________\n",
    "## ***- РАЗДЕЛ 2 -***\n",
    "\n",
    "### Задачи\n",
    "- Оценить количество уникальных значений для номинативных переменных.\n",
    "- Устранить выбросы.\n",
    "- По необходимости преобразовать данные\n",
    "\n",
    "Сколько уникальны значений в датафрейме с номинативными признаками? "
   ]
  },
  {
   "cell_type": "code",
   "execution_count": 41,
   "metadata": {},
   "outputs": [
    {
     "name": "stdout",
     "output_type": "stream",
     "text": [
      "Уникальные значения в колонке -  school \n",
      " ['GP', 'MS']  - 2\n",
      "Уникальные значения в колонке -  sex \n",
      " ['F', 'M']  - 2\n",
      "Уникальные значения в колонке -  address \n",
      " ['U', 'R']  - 2\n",
      "Уникальные значения в колонке -  famsize \n",
      " ['GT3', 'LE3']  - 2\n",
      "Уникальные значения в колонке -  p_status \n",
      " ['A', 'T']  - 2\n",
      "Уникальные значения в колонке -  m_job \n",
      " ['at_home', 'health', 'other', 'services', 'teacher']  - 5\n",
      "Уникальные значения в колонке -  f_job \n",
      " ['teacher', 'other', 'health', 'services', 'at_home']  - 5\n",
      "Уникальные значения в колонке -  reason \n",
      " ['course', 'other', 'home', 'reputation']  - 4\n",
      "Уникальные значения в колонке -  guardian \n",
      " ['mother', 'father', 'other']  - 3\n",
      "Уникальные значения в колонке -  schoolsup \n",
      " ['yes', 'no']  - 2\n",
      "Уникальные значения в колонке -  famsup \n",
      " ['no', 'yes']  - 2\n",
      "Уникальные значения в колонке -  paid \n",
      " ['no', 'yes']  - 2\n",
      "Уникальные значения в колонке -  activities \n",
      " ['no', 'yes']  - 2\n",
      "Уникальные значения в колонке -  nursery \n",
      " ['yes', 'no']  - 2\n",
      "Уникальные значения в колонке -  higher \n",
      " ['yes', 'no']  - 2\n",
      "Уникальные значения в колонке -  internet \n",
      " ['yes', 'no']  - 2\n",
      "Уникальные значения в колонке -  romantic \n",
      " ['no', 'yes']  - 2\n"
     ]
    }
   ],
   "source": [
    "you_are_so_unique(list(df_nom.columns)[:-1],none=False)"
   ]
  },
  {
   "cell_type": "markdown",
   "metadata": {},
   "source": [
    "В датафрейме присутсвует большое признаков с повторяющимся количеством уникальных значений. Больше всего конечно бинарных признаков (тех, у кого количество уникальных значений равняется двум).\n",
    "Ради удобства имеет смысл сгруппировать похожие по структуре данные и рассматривать их совместно на отдельном графике.\n",
    "\n",
    "Первым делом следует разобраться с бинарным большинством."
   ]
  },
  {
   "cell_type": "code",
   "execution_count": 42,
   "metadata": {
    "scrolled": false
   },
   "outputs": [
    {
     "name": "stdout",
     "output_type": "stream",
     "text": [
      "Количество пустых значений в school : 0\n",
      "Количество пустых значений в sex : 0\n",
      "Количество пустых значений в address : 17\n",
      "Количество пустых значений в p_status : 45\n",
      "Количество пустых значений в famsize : 27\n",
      "Количество пустых значений в schoolsup : 9\n",
      "Количество пустых значений в famsup : 39\n",
      "Количество пустых значений в paid : 40\n",
      "Количество пустых значений в activities : 14\n",
      "Количество пустых значений в nursery : 16\n",
      "Количество пустых значений в higher : 20\n",
      "Количество пустых значений в internet : 34\n",
      "Количество пустых значений в romantic : 31\n",
      "Признак (school)\n"
     ]
    },
    {
     "data": {
      "text/plain": [
       "MS     37\n",
       "GP    329\n",
       "Name: school, dtype: int64"
      ]
     },
     "metadata": {},
     "output_type": "display_data"
    },
    {
     "name": "stdout",
     "output_type": "stream",
     "text": [
      "Общее количество наблюдений: 366\n",
      "Количество уникальных значений: 2\n",
      "Количество отсутствующих значений: 0, 0% \n",
      "\n",
      "Признак (sex)\n"
     ]
    },
    {
     "data": {
      "text/plain": [
       "M    173\n",
       "F    193\n",
       "Name: sex, dtype: int64"
      ]
     },
     "metadata": {},
     "output_type": "display_data"
    },
    {
     "name": "stdout",
     "output_type": "stream",
     "text": [
      "Общее количество наблюдений: 366\n",
      "Количество уникальных значений: 2\n",
      "Количество отсутствующих значений: 0, 0% \n",
      "\n",
      "Признак (address)\n"
     ]
    },
    {
     "data": {
      "text/plain": [
       "U    276\n",
       "R     76\n",
       "Name: address, dtype: int64"
      ]
     },
     "metadata": {},
     "output_type": "display_data"
    },
    {
     "name": "stdout",
     "output_type": "stream",
     "text": [
      "Общее количество наблюдений: 352\n",
      "Количество уникальных значений: 2\n",
      "Количество отсутствующих значений: 14, 4% \n",
      "\n",
      "Признак (p_status)\n"
     ]
    },
    {
     "data": {
      "text/plain": [
       "T    293\n",
       "A     32\n",
       "Name: p_status, dtype: int64"
      ]
     },
     "metadata": {},
     "output_type": "display_data"
    },
    {
     "name": "stdout",
     "output_type": "stream",
     "text": [
      "Общее количество наблюдений: 325\n",
      "Количество уникальных значений: 2\n",
      "Количество отсутствующих значений: 41, 13% \n",
      "\n",
      "Признак (famsize)\n"
     ]
    },
    {
     "data": {
      "text/plain": [
       "LE3    101\n",
       "GT3    239\n",
       "Name: famsize, dtype: int64"
      ]
     },
     "metadata": {},
     "output_type": "display_data"
    },
    {
     "name": "stdout",
     "output_type": "stream",
     "text": [
      "Общее количество наблюдений: 340\n",
      "Количество уникальных значений: 2\n",
      "Количество отсутствующих значений: 26, 8% \n",
      "\n",
      "Признак (schoolsup)\n"
     ]
    },
    {
     "data": {
      "text/plain": [
       "yes     50\n",
       "no     309\n",
       "Name: schoolsup, dtype: int64"
      ]
     },
     "metadata": {},
     "output_type": "display_data"
    },
    {
     "name": "stdout",
     "output_type": "stream",
     "text": [
      "Общее количество наблюдений: 359\n",
      "Количество уникальных значений: 2\n",
      "Количество отсутствующих значений: 7, 2% \n",
      "\n",
      "Признак (famsup)\n"
     ]
    },
    {
     "data": {
      "text/plain": [
       "yes    207\n",
       "no     122\n",
       "Name: famsup, dtype: int64"
      ]
     },
     "metadata": {},
     "output_type": "display_data"
    },
    {
     "name": "stdout",
     "output_type": "stream",
     "text": [
      "Общее количество наблюдений: 329\n",
      "Количество уникальных значений: 2\n",
      "Количество отсутствующих значений: 37, 11% \n",
      "\n",
      "Признак (paid)\n"
     ]
    },
    {
     "data": {
      "text/plain": [
       "yes    147\n",
       "no     181\n",
       "Name: paid, dtype: int64"
      ]
     },
     "metadata": {},
     "output_type": "display_data"
    },
    {
     "name": "stdout",
     "output_type": "stream",
     "text": [
      "Общее количество наблюдений: 328\n",
      "Количество уникальных значений: 2\n",
      "Количество отсутствующих значений: 38, 12% \n",
      "\n",
      "Признак (activities)\n"
     ]
    },
    {
     "data": {
      "text/plain": [
       "yes    184\n",
       "no     168\n",
       "Name: activities, dtype: int64"
      ]
     },
     "metadata": {},
     "output_type": "display_data"
    },
    {
     "name": "stdout",
     "output_type": "stream",
     "text": [
      "Общее количество наблюдений: 352\n",
      "Количество уникальных значений: 2\n",
      "Количество отсутствующих значений: 14, 4% \n",
      "\n",
      "Признак (nursery)\n"
     ]
    },
    {
     "data": {
      "text/plain": [
       "yes    285\n",
       "no      69\n",
       "Name: nursery, dtype: int64"
      ]
     },
     "metadata": {},
     "output_type": "display_data"
    },
    {
     "name": "stdout",
     "output_type": "stream",
     "text": [
      "Общее количество наблюдений: 354\n",
      "Количество уникальных значений: 2\n",
      "Количество отсутствующих значений: 12, 3% \n",
      "\n",
      "Признак (higher)\n"
     ]
    },
    {
     "data": {
      "text/plain": [
       "yes    332\n",
       "no      15\n",
       "Name: higher, dtype: int64"
      ]
     },
     "metadata": {},
     "output_type": "display_data"
    },
    {
     "name": "stdout",
     "output_type": "stream",
     "text": [
      "Общее количество наблюдений: 347\n",
      "Количество уникальных значений: 2\n",
      "Количество отсутствующих значений: 19, 5% \n",
      "\n",
      "Признак (internet)\n"
     ]
    },
    {
     "data": {
      "text/plain": [
       "yes    287\n",
       "no      48\n",
       "Name: internet, dtype: int64"
      ]
     },
     "metadata": {},
     "output_type": "display_data"
    },
    {
     "name": "stdout",
     "output_type": "stream",
     "text": [
      "Общее количество наблюдений: 335\n",
      "Количество уникальных значений: 2\n",
      "Количество отсутствующих значений: 31, 9% \n",
      "\n",
      "Признак (romantic)\n"
     ]
    },
    {
     "data": {
      "text/plain": [
       "yes    112\n",
       "no     224\n",
       "Name: romantic, dtype: int64"
      ]
     },
     "metadata": {},
     "output_type": "display_data"
    },
    {
     "name": "stdout",
     "output_type": "stream",
     "text": [
      "Общее количество наблюдений: 336\n",
      "Количество уникальных значений: 2\n",
      "Количество отсутствующих значений: 30, 9% \n",
      "\n"
     ]
    },
    {
     "data": {
      "image/png": "[encoded data removed]",
      "text/plain": [
       "<Figure size 1440x864 with 1 Axes>"
      ]
     },
     "metadata": {
      "needs_background": "light"
     },
     "output_type": "display_data"
    }
   ],
   "source": [
    "# Список названий необходимых признаков \n",
    "column_names = ['school','sex','address','p_status','famsize','schoolsup','famsup','paid','activities','nursery',\n",
    "                'higher','internet','romantic']\n",
    "signs = columnator(column_names)\n",
    "\n",
    "# Создание двух списков с числовыми и номинативными данными\n",
    "array1 = []\n",
    "array2 = []\n",
    "for i in range(len(signs)):\n",
    "    array1.append(signs.iloc[i][0])\n",
    "    array2.append(signs.iloc[i][1])\n",
    "    \n",
    "# Следует изменить порядок некоторых значений в листах array 1 и array2, чтобы на графике они шли по порядку\n",
    "array1[10],array1[11] = array1[11],array1[10]\n",
    "array1[14],array1[15] = array1[15],array1[14]\n",
    "array1[24],array1[25] = array1[25],array1[24]\n",
    "array2[10],array2[11] = array2[11],array2[10]\n",
    "array2[14],array2[15] = array2[15],array2[14]\n",
    "array2[24],array2[25] = array2[25],array2[24]\n",
    "\n",
    "# Разбиение каждого списка на две части\n",
    "half1_a1 = [array1[i] for i in range(len(array1)) if i%2==0]\n",
    "half2_a1 = [array1[i] for i in range(len(array1)) if i%2!=0]\n",
    "half1_a2 = [array2[i] for i in range(len(array2)) if i%2==0]\n",
    "half2_a2 = [array2[i] for i in range(len(array2)) if i%2!=0]\n",
    "\n",
    "# Объединение двух листов с данными в пары \n",
    "values = list(zip(array1,array2))\n",
    "\n",
    "\n",
    "# Создание фигуры\n",
    "fig = plt.figure(figsize=(20,12))\n",
    "ax = fig.add_subplot(111)\n",
    "\n",
    "# Настройка параметров\n",
    "ax.set_facecolor('black')\n",
    "bar_width = 0.35\n",
    "opacity = 0.8\n",
    "plt.xticks(range(len(column_names)),column_names, rotation=50,fontsize=15);\n",
    "ax.set_title('Бинарные признаки',size=14)\n",
    "ax.set_ylabel('Количество студентов',size=14)\n",
    "\n",
    "# Создание графиков\n",
    "bar1 = plt.bar(np.arange(len(half1_a1))+bar_width, half1_a2,bar_width,alpha=opacity,align='center', color='gold',\n",
    "              label=half1_a1)\n",
    "bar2 = plt.bar(np.arange(len(half2_a1)), half2_a2, bar_width, align='center', alpha=opacity, color='cornsilk',\n",
    "              label=half2_a1)\n",
    "\n",
    "\n",
    "# Вывод значений на экран\n",
    "x1 = np.arange(len(half1_a1))+bar_width\n",
    "x2 = np.arange(len(half2_a1))\n",
    "\n",
    "for i in range(len(x1)):\n",
    "    plt.text(x=x1[i]-0.1, y=half1_a2[i], s=str(half1_a2[i]), size=14,bbox=dict(facecolor='white', alpha=0.8))\n",
    "for j in range(len(x2)):\n",
    "    plt.text(x=x2[j] -0.2 , y=half2_a2[j], s=str(half2_a2[j]), size=14, bbox=dict(facecolor='red', alpha=0.8))\n",
    "for i in range(len(x1)):\n",
    "    plt.text(x=x1[i]-0.1, y=half1_a2[i]-14, s=half1_a1[i], size=14,bbox=dict(facecolor='white', alpha=0.5))\n",
    "for j in range(len(x2)):\n",
    "    plt.text(x=x2[j] -0.2 , y=half2_a2[j]-14, s=half2_a1[j], size=14, bbox=dict(facecolor='red', alpha=0.5))\n",
    "    \n",
    "# Описание  \n",
    "journalist(column_names)"
   ]
  },
  {
   "cell_type": "markdown",
   "metadata": {},
   "source": [
    "* school — аббревиатура школы, в которой учится ученик\n",
    "* sex — пол ученика ('F' - женский, 'M' - мужской)\n",
    "* address — тип адреса ученика ('U' - городской, 'R' - за городом)\n",
    "* Pstatus — статус совместного жилья родителей ('T' - живут вместе 'A' - раздельно)\n",
    "* famsize — размер семьи('LE3' <= 3, 'GT3' >3)\n",
    "* schoolsup — дополнительная образовательная поддержка (yes или no)\n",
    "* famsup — семейная образовательная поддержка (yes или no)\n",
    "* paid — дополнительные платные занятия по математике (yes или no)\n",
    "* activities — дополнительные внеучебные занятия (yes или no)\n",
    "* nursery — посещал детский сад (yes или no)\n",
    "* higher — хочет получить высшее образование (yes или no)\n",
    "* internet — наличие интернета дома (yes или no)\n",
    "* romantic — в романтических отношениях (yes или no)"
   ]
  },
  {
   "cell_type": "markdown",
   "metadata": {},
   "source": [
    "Данные достаточно хорошо подготовлены, имеются пропуски, но их количество не является критическим для дальнейшего анализа. \n",
    "Наибольшее количество пропусков имеется в следующих признаках:\n",
    "* *оплата дополнительных занятий (paid)* - 12%\n",
    "* *семейная образовательная поддержке (famsup)* - 11%\n",
    "* *совместное проживание родителей (Pstatus)* - 13%\n",
    "\n",
    "Количество вышеуказанных пропусков хоть и превышает 10%, однако в выборке в 350 человек вряд ли играет ключевое значение. Устранение пропусков неразумно, так как потеряется большое количество других признаков. Замена попусков также не имеет смысла, так как каждый из значений признаков представляет из себя не количественные природу данных ( например измерение температуры в регионе, где можно было бы заполнить эти данные средним значением), а ответ на вопрос Да/Нет. Восстановление значений тоже не представляется оправданным. Хоть и все предыдущие предложения возможны, для их корректного восстановления требуется обращаться к источнику информации.\n",
    "\n",
    "В целом, данные подходят для дальнейшего исследования.\n",
    "\n",
    "Видно, что такие признаки как пол, семейная образовательная поддержка, дополнительные платные занятия по математики и дополнительные внеучебные занятия распределены в данных достаточно сбалансированно, остальные признаки демонстрируют серьезные различия. Например:\n",
    "\n",
    "* Данные собраны практические в одной школе (GP) 88%\n",
    "* Большинство учеников живут в городе 78%\n",
    "* У большинства родители живут совместно 89%\n",
    "* У большинства учеников имеются братья или сестры 70%\n",
    "* Практически всем ученикам не предоставляется дополнительная образовательная поддержка со стороны школы 86%\n",
    "* Большинство из них посещало детский сад 79%\n",
    "* Практически все ученики планируют получать высшее образование 95%\n",
    "* Почти у всех имеется доступ к интернету 85%\n",
    "* Многие не состоят в романтических отношениях 66%\n",
    "__________________"
   ]
  },
  {
   "cell_type": "markdown",
   "metadata": {},
   "source": [
    "________________\n",
    "Какими профессиями заняты родители?"
   ]
  },
  {
   "cell_type": "code",
   "execution_count": 43,
   "metadata": {},
   "outputs": [],
   "source": [
    "least_names = ['m_job', 'f_job', 'reason','guardian']"
   ]
  },
  {
   "cell_type": "code",
   "execution_count": 44,
   "metadata": {},
   "outputs": [],
   "source": [
    "job_names = list(df['m_job'].value_counts().index)"
   ]
  },
  {
   "cell_type": "code",
   "execution_count": 45,
   "metadata": {
    "scrolled": false
   },
   "outputs": [
    {
     "name": "stdout",
     "output_type": "stream",
     "text": [
      "Признак (m_job)\n"
     ]
    },
    {
     "data": {
      "text/plain": [
       "teacher      54\n",
       "services     87\n",
       "other       122\n",
       "health       30\n",
       "at_home      54\n",
       "Name: m_job, dtype: int64"
      ]
     },
     "metadata": {},
     "output_type": "display_data"
    },
    {
     "name": "stdout",
     "output_type": "stream",
     "text": [
      "Общее количество наблюдений: 347\n",
      "Количество уникальных значений: 5\n",
      "Количество отсутствующих значений: 19, 5% \n",
      "\n",
      "Признак (f_job)\n"
     ]
    },
    {
     "data": {
      "text/plain": [
       "teacher      29\n",
       "services     91\n",
       "other       185\n",
       "health       14\n",
       "at_home      13\n",
       "Name: f_job, dtype: int64"
      ]
     },
     "metadata": {},
     "output_type": "display_data"
    },
    {
     "name": "stdout",
     "output_type": "stream",
     "text": [
      "Общее количество наблюдений: 332\n",
      "Количество уникальных значений: 5\n",
      "Количество отсутствующих значений: 34, 10% \n",
      "\n"
     ]
    },
    {
     "data": {
      "image/png": "[encoded data removed]",
      "text/plain": [
       "<Figure size 1080x720 with 1 Axes>"
      ]
     },
     "metadata": {
      "needs_background": "light"
     },
     "output_type": "display_data"
    }
   ],
   "source": [
    "# Создание фигуры \n",
    "fig ,ax = plt.subplots(figsize=(15,10))\n",
    "\n",
    "# Настройка параметров\n",
    "plt.xticks(np.arange(1,6),job_names,size=12)\n",
    "ax.set_facecolor('black')\n",
    "ax.set_title('Виды деятельности родителей',fontsize=14)\n",
    "ax.set_ylabel('Общее количество',fontsize=14)\n",
    "ax.text(4,180,'матери /',color='pink',size=21)\n",
    "ax.text(4.6,180,'отцы',color='skyblue',size=21)\n",
    "\n",
    "# Создание графика\n",
    "bar0 = ax.bar(np.arange(1,6)-0.17,\n",
    "                    df_nom['m_job'].value_counts().reset_index()['m_job'],\n",
    "                    width=.35,color='pink');\n",
    "bar1 = ax.bar(np.arange(1,6)+0.17,df_nom['f_job'].value_counts().reset_index()['f_job'],\n",
    "           width=.35,color='skyblue');\n",
    "\n",
    "# Вывод значений\n",
    "valueprinter(bar0,xcoord=4,fontsize=10)\n",
    "valueprinter(bar1,xcoord=4,fontsize=10)\n",
    "\n",
    "# Описание\n",
    "journalist(['m_job','f_job'])"
   ]
  },
  {
   "cell_type": "markdown",
   "metadata": {},
   "source": [
    "**other** - другое, **services** - гос служба, **at_home** - не работает, **teacher** - учитель, **health** - сфера здравоохранения\n"
   ]
  },
  {
   "cell_type": "markdown",
   "metadata": {},
   "source": [
    "Данные вполне подготовлены для дальнейшего анализа. \n",
    "Любопытно, что количество матерей и отцов на государственной службе практически совпадает.\n",
    "Матерей, как видно, больше в таких сферах как здравоохранение и образование, отцы в основном распределены в категории - другое.\n",
    "_______________"
   ]
  },
  {
   "cell_type": "markdown",
   "metadata": {},
   "source": [
    "________________\n",
    "В чем причина выбора школы?\n"
   ]
  },
  {
   "cell_type": "code",
   "execution_count": 46,
   "metadata": {
    "scrolled": false
   },
   "outputs": [
    {
     "name": "stdout",
     "output_type": "stream",
     "text": [
      "Признак (reason)\n"
     ]
    },
    {
     "data": {
      "text/plain": [
       "reputation     95\n",
       "other          31\n",
       "home           94\n",
       "course        130\n",
       "Name: reason, dtype: int64"
      ]
     },
     "metadata": {},
     "output_type": "display_data"
    },
    {
     "name": "stdout",
     "output_type": "stream",
     "text": [
      "Общее количество наблюдений: 350\n",
      "Количество уникальных значений: 4\n",
      "Количество отсутствующих значений: 16, 5% \n",
      "\n"
     ]
    },
    {
     "data": {
      "image/png": "[encoded data removed]",
      "text/plain": [
       "<Figure size 1080x576 with 1 Axes>"
      ]
     },
     "metadata": {
      "needs_background": "light"
     },
     "output_type": "display_data"
    }
   ],
   "source": [
    "# Подготовка названий для отметок на графике \n",
    "reasons = list(df['reason'].unique())\n",
    "reasons = reasons[:-1]\n",
    "\n",
    "# Создание фигуры\n",
    "fig, ax = plt.subplots(figsize=(15,8))\n",
    "plt.xticks(np.arange(0,4),reasons,size=12)\n",
    "\n",
    "# Создание графика\n",
    "reason_bar = ax.bar(np.arange(0,4),df['reason'].value_counts(),width=0.25,color='cornsilk')\n",
    "\n",
    "#Настройка параметров\n",
    "ax.set_facecolor('black')\n",
    "ax.set_title('Причина выбора школы',size=14)\n",
    "ax.set_ylabel('Количество студентов',size=14)\n",
    "\n",
    "# Создание отметок на оси икс\n",
    "reasons = list(df['reason'].unique())\n",
    "reasons = reasons[:-1]\n",
    "\n",
    "# Вывод значений\n",
    "valueprinter(reason_bar,xcoord=3,fontsize=10)\n",
    "\n",
    "# Описание\n",
    "journalist(['reason'])"
   ]
  },
  {
   "cell_type": "markdown",
   "metadata": {},
   "source": [
    "**course** - образовательная программа, **other** - другое ,**home** - близость к дому, **reputation** - репутация школы"
   ]
  },
  {
   "cell_type": "markdown",
   "metadata": {},
   "source": [
    "Данные пригодны для дальнейшей работы\n",
    "_____________________"
   ]
  },
  {
   "cell_type": "markdown",
   "metadata": {},
   "source": [
    "___________\n",
    "\n",
    "guardian — опекун ('mother' - мать, 'father' - отец, 'other' - другое)"
   ]
  },
  {
   "cell_type": "code",
   "execution_count": 47,
   "metadata": {
    "scrolled": false
   },
   "outputs": [
    {
     "name": "stdout",
     "output_type": "stream",
     "text": [
      "Признак (guardian)\n"
     ]
    },
    {
     "data": {
      "text/plain": [
       "other       9\n",
       "mother    245\n",
       "father     84\n",
       "Name: guardian, dtype: int64"
      ]
     },
     "metadata": {},
     "output_type": "display_data"
    },
    {
     "name": "stdout",
     "output_type": "stream",
     "text": [
      "Общее количество наблюдений: 338\n",
      "Количество уникальных значений: 3\n",
      "Количество отсутствующих значений: 28, 8% \n",
      "\n"
     ]
    },
    {
     "data": {
      "image/png": "[encoded data removed]",
      "text/plain": [
       "<Figure size 864x504 with 1 Axes>"
      ]
     },
     "metadata": {
      "needs_background": "light"
     },
     "output_type": "display_data"
    }
   ],
   "source": [
    "# Подготовка названий для отметок на графике \n",
    "guards = list(df['guardian'].unique())\n",
    "guards = guards[:-1]\n",
    "\n",
    "# Создание фигуры\n",
    "fig, ax = plt.subplots(figsize=(12,7))\n",
    "plt.xticks(np.arange(0,3),guards,size=12)\n",
    "\n",
    "# Создание графика\n",
    "guards_bar = ax.bar(np.arange(0,3),df['guardian'].value_counts(),width=0.35);\n",
    "ax.set_facecolor('black');\n",
    "ax.set_title('Опекуны',size=14);\n",
    "ax.set_ylabel('Количество опекаемых',size=14);\n",
    "\n",
    "# Покраска столбцов\n",
    "guards_bar[0].set_color('pink')\n",
    "guards_bar[1].set_color('skyblue')\n",
    "guards_bar[2].set_color('cornsilk')\n",
    "\n",
    "# Установка значений\n",
    "valueprinter(guards_bar,xcoord=2.5,fontsize=12)\n",
    "\n",
    "# Описание\n",
    "journalist(['guardian'])"
   ]
  },
  {
   "cell_type": "markdown",
   "metadata": {},
   "source": [
    "**mother** - мать, **father** - отец, **other** - другое\n",
    "\n",
    "В данных присутсвует 8% пустых значений, что не является критичным для дальнейшей работы. Данные подходят для выявления дальнейших статистических закономерностей."
   ]
  },
  {
   "cell_type": "markdown",
   "metadata": {},
   "source": [
    "## Вывод\n",
    "\n",
    "Предоставленные данные не потребовали серьезной обработки. \n",
    "\n",
    "Присутствуют пропуски, но их количество, не превыщающее 10% от общей выборки , как было сказано неоднократно, не является критическим для дальнейшего анализа. \n",
    "Однако есть исключения, также не несущие никакой опасности: \n",
    "* *оплата дополнительных занятий (paid)* - 12%\n",
    "* *семейная образовательная поддержка (famsup)* - 11%\n",
    "* *совместное проживание родителей (Pstatus)* - 13%\n",
    "\n",
    "В процессе выяснился общий портрет ученика:\n",
    "\n",
    "* В основном, дети посещают школу (GP) 88%\n",
    "* Большинство учеников живут в городе 78%\n",
    "* У большинства родители живут совместно 89%\n",
    "* У большинства учеников имеются братья или сестры 70%\n",
    "* Практически всем ученикам не предоставляется дополнительная образовательная поддержка со стороны школы 86%\n",
    "* Большинство из них посещало детский сад 79%\n",
    "* Практически все ученики планируют получать высшее образование 95%\n",
    "* Почти у всех имеется доступ к интернету 85%\n",
    "* Многие не состоят в романтических отношениях 66%\n",
    "* За данными детьми в основном присматривают матери 72% \n",
    "____________________"
   ]
  },
  {
   "cell_type": "markdown",
   "metadata": {},
   "source": [
    "_____________________________\n",
    "## ***- Раздел 3 -***\n",
    "\n",
    "### Задачи\n",
    "\n",
    "* Провести корреляционный анализ количественных переменных\n",
    "* Отобрать коррелирующие переменные.\n",
    "* Проанализировать номинативные переменные и устраните те, которые не влияют на предсказываемую величину (в данном случае — на переменную score)."
   ]
  },
  {
   "cell_type": "code",
   "execution_count": 48,
   "metadata": {},
   "outputs": [],
   "source": [
    "#journalist(list(df.columns))"
   ]
  },
  {
   "cell_type": "markdown",
   "metadata": {},
   "source": [
    "Как количественные признаки коррелируют со шкалой оценок? Какие признаки стоит оставить для дальнейшего построения модели?"
   ]
  },
  {
   "cell_type": "code",
   "execution_count": 49,
   "metadata": {
    "scrolled": false
   },
   "outputs": [
    {
     "data": {
      "text/html": [
       "<div>\n",
       "<style scoped>\n",
       "    .dataframe tbody tr th:only-of-type {\n",
       "        vertical-align: middle;\n",
       "    }\n",
       "\n",
       "    .dataframe tbody tr th {\n",
       "        vertical-align: top;\n",
       "    }\n",
       "\n",
       "    .dataframe thead th {\n",
       "        text-align: right;\n",
       "    }\n",
       "</style>\n",
       "<table border=\"1\" class=\"dataframe\">\n",
       "  <thead>\n",
       "    <tr style=\"text-align: right;\">\n",
       "      <th></th>\n",
       "      <th>age</th>\n",
       "      <th>m_edu</th>\n",
       "      <th>f_edu</th>\n",
       "      <th>traveltime</th>\n",
       "      <th>studytime</th>\n",
       "      <th>failures</th>\n",
       "      <th>famrel</th>\n",
       "      <th>freetime</th>\n",
       "      <th>go_out</th>\n",
       "      <th>health</th>\n",
       "      <th>absences</th>\n",
       "    </tr>\n",
       "  </thead>\n",
       "  <tbody>\n",
       "    <tr>\n",
       "      <td>score</td>\n",
       "      <td>-0.155726</td>\n",
       "      <td>0.213349</td>\n",
       "      <td>0.078573</td>\n",
       "      <td>-0.070559</td>\n",
       "      <td>0.115741</td>\n",
       "      <td>-0.344338</td>\n",
       "      <td>0.057112</td>\n",
       "      <td>0.019026</td>\n",
       "      <td>-0.129685</td>\n",
       "      <td>-0.07046</td>\n",
       "      <td>0.065283</td>\n",
       "    </tr>\n",
       "  </tbody>\n",
       "</table>\n",
       "</div>"
      ],
      "text/plain": [
       "            age     m_edu     f_edu  traveltime  studytime  failures  \\\n",
       "score -0.155726  0.213349  0.078573   -0.070559   0.115741 -0.344338   \n",
       "\n",
       "         famrel  freetime    go_out   health  absences  \n",
       "score  0.057112  0.019026 -0.129685 -0.07046  0.065283  "
      ]
     },
     "execution_count": 49,
     "metadata": {},
     "output_type": "execute_result"
    }
   ],
   "source": [
    "corr_df = df_num.corr()\n",
    "score_corr = corr_df.loc[['score'],:'absences']\n",
    "score_corr"
   ]
  },
  {
   "cell_type": "markdown",
   "metadata": {},
   "source": [
    "*Допущение №1.*\n",
    "* Пусть, если в корреляционной оценке десятичное значение будет отлично от нуля, будем считать, что имеется взаимосвязь между параметрами, хоть и слабая\n",
    "\n",
    "*Допущение №2.*\n",
    "* Те параметры, которые меньше 10%, можно не учитывать, так как статистическая взаимосвязь слишком мала \n",
    "\n",
    "\n",
    "Из представленных параметров можно оставить только те, которые превышают 10%, остальные корреляционные результаты можно не рассматривать\n",
    "\n",
    "Коррелирующие с оценками признаки:  \n",
    "\n",
    "* Возраст ученика (age)\n",
    "* Образование матери (m_edu)\n",
    "* Количество неуспехов вне школьной деятельности (failures)\n",
    "* Количество внеучебных занятий  (studytime)\n",
    "* Количество времени, затрачимаевого на общение с друзьями (go_out)"
   ]
  },
  {
   "cell_type": "code",
   "execution_count": 50,
   "metadata": {},
   "outputs": [
    {
     "data": {
      "text/html": [
       "<div>\n",
       "<style scoped>\n",
       "    .dataframe tbody tr th:only-of-type {\n",
       "        vertical-align: middle;\n",
       "    }\n",
       "\n",
       "    .dataframe tbody tr th {\n",
       "        vertical-align: top;\n",
       "    }\n",
       "\n",
       "    .dataframe thead th {\n",
       "        text-align: right;\n",
       "    }\n",
       "</style>\n",
       "<table border=\"1\" class=\"dataframe\">\n",
       "  <thead>\n",
       "    <tr style=\"text-align: right;\">\n",
       "      <th></th>\n",
       "      <th>age</th>\n",
       "      <th>m_edu</th>\n",
       "      <th>studytime</th>\n",
       "      <th>failures</th>\n",
       "      <th>go_out</th>\n",
       "    </tr>\n",
       "  </thead>\n",
       "  <tbody>\n",
       "    <tr>\n",
       "      <td>score</td>\n",
       "      <td>-0.156</td>\n",
       "      <td>0.213</td>\n",
       "      <td>0.116</td>\n",
       "      <td>-0.344</td>\n",
       "      <td>-0.13</td>\n",
       "    </tr>\n",
       "  </tbody>\n",
       "</table>\n",
       "</div>"
      ],
      "text/plain": [
       "         age  m_edu  studytime  failures  go_out\n",
       "score -0.156  0.213      0.116    -0.344   -0.13"
      ]
     },
     "execution_count": 50,
     "metadata": {},
     "output_type": "execute_result"
    }
   ],
   "source": [
    "round(score_corr.loc[:,['age','m_edu','studytime','failures','go_out']],3)"
   ]
  },
  {
   "cell_type": "markdown",
   "metadata": {},
   "source": [
    "_______________\n",
    "##### Дополнительные корреляционные связи\n",
    "\n",
    "Данные пункт представляют собой интерес со стороны исследователя, к поставленной, раннее выполненной задаче, они не относятся."
   ]
  },
  {
   "cell_type": "code",
   "execution_count": 51,
   "metadata": {},
   "outputs": [],
   "source": [
    "#corr_df[corr_df > 0.10]"
   ]
  },
  {
   "cell_type": "markdown",
   "metadata": {},
   "source": [
    "### признак 1 - корреляция - признак 2\n",
    "\n",
    "* возраст (age) - **0.228** - количество внеучебных неудач (failures)\n",
    "\n",
    "* возраст (age) - **0.135** - количество времени,проведенного с друзьями (go_out)\n",
    "\n",
    "* образование матери (m_edu) - **0.275** - обраование отца (f_edu)\n",
    "\n",
    "* количество внеучебных неудач (failures) - **0.120** - количество времени,проведенного с друзьями (go_out)\n",
    "\n",
    "* отношение с родителями (famrel) - **0.175** - свободное время после школы (freetime)\n",
    "\n",
    "* свободное время после школы (freetime) - **0.296** - количество времени,проведенного с друзьями (go_out)\n",
    "___________"
   ]
  },
  {
   "cell_type": "markdown",
   "metadata": {},
   "source": [
    "________________\n"
   ]
  },
  {
   "cell_type": "markdown",
   "metadata": {},
   "source": [
    "______________________"
   ]
  },
  {
   "cell_type": "markdown",
   "metadata": {},
   "source": [
    "Какие номинативные параметры влияют на оценки учеников?"
   ]
  },
  {
   "cell_type": "code",
   "execution_count": 52,
   "metadata": {},
   "outputs": [],
   "source": [
    "# Создание листа со всеми названиями номинативного датафрейма ( помимо колонки с оценками)\n",
    "columns_nom = list(df_nom.columns)[:-1]"
   ]
  },
  {
   "cell_type": "code",
   "execution_count": 53,
   "metadata": {
    "scrolled": true
   },
   "outputs": [
    {
     "data": {
      "image/png": "[encoded data removed]",
      "text/plain": [
       "<Figure size 576x576 with 1 Axes>"
      ]
     },
     "metadata": {
      "needs_background": "light"
     },
     "output_type": "display_data"
    },
    {
     "data": {
      "image/png": "[encoded data removed]",
      "text/plain": [
       "<Figure size 576x576 with 1 Axes>"
      ]
     },
     "metadata": {
      "needs_background": "light"
     },
     "output_type": "display_data"
    },
    {
     "data": {
      "image/png": "[encoded data removed]",
      "text/plain": [
       "<Figure size 576x576 with 1 Axes>"
      ]
     },
     "metadata": {
      "needs_background": "light"
     },
     "output_type": "display_data"
    },
    {
     "data": {
      "image/png": "[encoded data removed]",
      "text/plain": [
       "<Figure size 576x576 with 1 Axes>"
      ]
     },
     "metadata": {
      "needs_background": "light"
     },
     "output_type": "display_data"
    },
    {
     "data": {
      "image/png": "[encoded data removed]",
      "text/plain": [
       "<Figure size 576x576 with 1 Axes>"
      ]
     },
     "metadata": {
      "needs_background": "light"
     },
     "output_type": "display_data"
    },
    {
     "data": {
      "image/png": "[encoded data removed]",
      "text/plain": [
       "<Figure size 576x576 with 1 Axes>"
      ]
     },
     "metadata": {
      "needs_background": "light"
     },
     "output_type": "display_data"
    },
    {
     "data": {
      "image/png": "[encoded data removed]",
      "text/plain": [
       "<Figure size 576x576 with 1 Axes>"
      ]
     },
     "metadata": {
      "needs_background": "light"
     },
     "output_type": "display_data"
    },
    {
     "data": {
      "image/png": "[encoded data removed]",
      "text/plain": [
       "<Figure size 576x576 with 1 Axes>"
      ]
     },
     "metadata": {
      "needs_background": "light"
     },
     "output_type": "display_data"
    },
    {
     "data": {
      "image/png": "[encoded data removed]",
      "text/plain": [
       "<Figure size 576x576 with 1 Axes>"
      ]
     },
     "metadata": {
      "needs_background": "light"
     },
     "output_type": "display_data"
    },
    {
     "data": {
      "image/png": "[encoded data removed]",
      "text/plain": [
       "<Figure size 576x576 with 1 Axes>"
      ]
     },
     "metadata": {
      "needs_background": "light"
     },
     "output_type": "display_data"
    },
    {
     "data": {
      "image/png": "[encoded data removed]",
      "text/plain": [
       "<Figure size 576x576 with 1 Axes>"
      ]
     },
     "metadata": {
      "needs_background": "light"
     },
     "output_type": "display_data"
    },
    {
     "data": {
      "image/png": "[encoded data removed]",
      "text/plain": [
       "<Figure size 576x576 with 1 Axes>"
      ]
     },
     "metadata": {
      "needs_background": "light"
     },
     "output_type": "display_data"
    },
    {
     "data": {
      "image/png": "[encoded data removed]",
      "text/plain": [
       "<Figure size 576x576 with 1 Axes>"
      ]
     },
     "metadata": {
      "needs_background": "light"
     },
     "output_type": "display_data"
    },
    {
     "data": {
      "image/png": "[encoded data removed]",
      "text/plain": [
       "<Figure size 576x576 with 1 Axes>"
      ]
     },
     "metadata": {
      "needs_background": "light"
     },
     "output_type": "display_data"
    },
    {
     "data": {
      "image/png": "[encoded data removed]",
      "text/plain": [
       "<Figure size 576x576 with 1 Axes>"
      ]
     },
     "metadata": {
      "needs_background": "light"
     },
     "output_type": "display_data"
    },
    {
     "data": {
      "image/png": "[encoded data removed]",
      "text/plain": [
       "<Figure size 576x576 with 1 Axes>"
      ]
     },
     "metadata": {
      "needs_background": "light"
     },
     "output_type": "display_data"
    },
    {
     "data": {
      "image/png": "[encoded data removed]",
      "text/plain": [
       "<Figure size 576x576 with 1 Axes>"
      ]
     },
     "metadata": {
      "needs_background": "light"
     },
     "output_type": "display_data"
    }
   ],
   "source": [
    "for i in columns_nom:\n",
    "    get_boxplot(i)"
   ]
  },
  {
   "cell_type": "markdown",
   "metadata": {},
   "source": [
    "Исходя из результов вышеуказанных графиков можно отметить, что хоть в среднем каждый праметр показывает примерно одинаковые результаты, есть некоторые характерные особенности, такие как: \n",
    "\n",
    "* Видно, что мальчики данных школ демонстрируют результаты немного лучше, чем девочки. Оценки мальчиков-отличников выше, чем у девочек отличниц. Большее количество результатов среди мальчиков тяготеет к оценкам выше среднего, когда у девочек, обратная ситуация.\n",
    "* Такое же соотношение между данными имеется и в признаке места проживания, городские ученики показывают результаты немного лучше, чем те, кто живет за городом.\n",
    "* Видно что ученики, чьи матери работают в сфере здравоохранения показывают средние и максимальные результаты выше, чем у учеников, чьи матери владеют иными специальностями.\n",
    "* Аналогичная ситуация обстоит и с учениками, чьи отцы работают в образовательной сфере.\n",
    "* Видно, что если школа не дает дополительной поддержки учащемуся, то он сдает экзамен гораздо выше тех, кому эта помощь предоставляется.\n",
    "* Однозначно видно, что те ученики, которые желают продолжить свое образование и поступать в институт имеют несравнимо лучшие показатели оценок. Средняя оценка тех, кто хочет учиться в институте примерно такая же, какой является максимальная среди тех, кто продолжать учебу не планирует.\n",
    "* Также есть незначительное отличие среди тех, кто находится в романтических отношениях и кто в них не состоит. Оценки учеников, которые не состоят в отношениях достигают более высоких баллов и в большей части таких учеников свойственно получать более высокие оценки, чем тем, кто состоит в отношениях.\n",
    "\n",
    "Исходя из вышеописанных наблюдений, для дальнейшего построения модели следует обратить внимание на следующие признаки:\n",
    "\n",
    "* пол (sex)\n",
    "* адрес (address)\n",
    "* образование матери (m_job)\n",
    "* образование отцов (f_job)\n",
    "* желание продолжать учебу и поступать в институт (higher)\n",
    "* состояние в романтических отношениях (romantic)\n",
    "_________________________"
   ]
  },
  {
   "cell_type": "markdown",
   "metadata": {},
   "source": [
    "____________________\n",
    "Какие результаты покажет такой инструмент, как тест Стьюдента, в поиске различия в распределении оценок по номинативным признакам?"
   ]
  },
  {
   "cell_type": "code",
   "execution_count": 54,
   "metadata": {},
   "outputs": [],
   "source": [
    "all_names = list(df_nom.columns[:-1])+list(df_num.columns[:-1])"
   ]
  },
  {
   "cell_type": "code",
   "execution_count": 55,
   "metadata": {
    "scrolled": true
   },
   "outputs": [
    {
     "name": "stdout",
     "output_type": "stream",
     "text": [
      "Найдены статистически значимые различия для колонки sex\n",
      "Найдены статистически значимые различия для колонки address\n",
      "Найдены статистически значимые различия для колонки m_job\n",
      "Найдены статистически значимые различия для колонки higher\n",
      "Найдены статистически значимые различия для колонки romantic\n",
      "Найдены статистически значимые различия для колонки m_edu\n",
      "Найдены статистически значимые различия для колонки failures\n",
      "Найдены статистически значимые различия для колонки go_out\n",
      "Найдены статистически значимые различия для колонки absences\n"
     ]
    }
   ],
   "source": [
    "for name in all_names:\n",
    "    get_stat_dif(name)"
   ]
  },
  {
   "cell_type": "markdown",
   "metadata": {},
   "source": [
    "В самом начале работы в данных о возрасте имелось 29 учеников, чей возраст превышает 18 лет.\n",
    "Тест-стьюдента был заранее проведен дважды, на данных с учетом этих 29 человек и на данных без их вовлечения в анализ. \n",
    "Результаты (приведенные ниже) показывают, что как при наличии, так и исключении возрастной аномалии, параметр возраста не рассматривается тестом как значимый, даже при учете корреляции, которая разумеется является очень низкой. Также возникает дополнительный параметр, такой как пол ученика, который раньше оставался бы незамеченным с учетом особенностей работы функции. На графике (боксплот) четко видно небольшое различие показателей в обоих случаях.\n",
    "\n",
    "**Данные учеников от 15 - 18 лет**\n",
    "\n",
    "*Найдены статистически значимые различия для колонки sex*\n",
    "\n",
    "Найдены статистически значимые различия для колонки address\n",
    "\n",
    "Найдены статистически значимые различия для колонки m_job\n",
    "\n",
    "Найдены статистически значимые различия для колонки higher\n",
    "\n",
    "Найдены статистически значимые различия для колонки romantic\n",
    "\n",
    "Найдены статистически значимые различия для колонки m_edu\n",
    "\n",
    "Найдены статистически значимые различия для колонки failures\n",
    "\n",
    "Найдены статистически значимые различия для колонки go_out\n",
    "\n",
    "Найдены статистически значимые различия для колонки absences\n",
    "\n",
    "**Данные учеников от 15 - 18 лет, включая 29 взрослых школьников**\n",
    "\n",
    "\n",
    "Найдены статистически значимые различия для колонки address\n",
    "\n",
    "Найдены статистически значимые различия для колонки m_job\n",
    "\n",
    "Найдены статистически значимые различия для колонки higher\n",
    "\n",
    "Найдены статистически значимые различия для колонки romantic\n",
    "\n",
    "Найдены статистически значимые различия для колонки m_edu\n",
    "\n",
    "Найдены статистически значимые различия для колонки failures\n",
    "\n",
    "Найдены статистически значимые различия для колонки go_out\n",
    "\n",
    "Найдены статистически значимые различия для колонки absences\n",
    "__________________________________"
   ]
  },
  {
   "cell_type": "markdown",
   "metadata": {},
   "source": [
    "_________________________\n",
    "## Вывод\n",
    "\n",
    "**Какие признаки учитывать для построения дальнейшей модели?**\n",
    "\n",
    "Из корреляционной матрицы было решено выделить следующие параметры:\n",
    "\n",
    "* возраст ученика (age)\n",
    "* образование матери (m_edu)\n",
    "* количество внеучебных неудач (failures)\n",
    "* количество внеучебных занятий (studytime)\n",
    "* количество времени, затрачимаевого на общение с друзьями (go_out)\n",
    "\n",
    "Анализ номинативных переменных указал на статистические особенности между оценками следующих параметров:\n",
    "\n",
    "* пол (sex)\n",
    "* адрес (address)\n",
    "* образование матери (m_job)\n",
    "* образование отцов (f_job)\n",
    "* желание продолжать учебу и поступать в институт (higher)\n",
    "* состояние в романтических отношениях (romantic)\n",
    "\n",
    "**Тест Стьюдента** указал на статистически значимые различия следующих параметров:\n",
    "\n",
    "* *пол (sex)*\n",
    "* *адрес (address)*\n",
    "* *образование отцов (f_job)*\n",
    "* *желание продолжать учебу и поступать в институт (higher)*\n",
    "* *состояние в романтических отношениях (romantic)*\n",
    "* *образование матери (m_edu)*\n",
    "* *количество внеучебных неудач (failures)*\n",
    "* *количество времени, затрачимаевого на общение с друзьями (go_out)*\n",
    "* количество пропущенных занятий (absences)\n",
    "\n",
    "\n",
    "\n",
    "С учетом полученных результатов различных статистических методов работы, предлагается выделить следующие **признаки для дальнейшего построения модели:** \n",
    "\n",
    "* *пол (sex)*\n",
    "* *адрес (address)*\n",
    "* *образование отцов (f_job)*\n",
    "* *желание продолжать учебу и поступать в институт (higher)*\n",
    "* *состояние в романтических отношениях (romantic)*\n",
    "* *образование матери (m_edu)*\n",
    "* *количество внеучебных неудач (failures)*\n",
    "* *количество времени, затрачимаевого на общение с друзьями (go_out)*\n",
    "* количество пропущенных занятий (absences)\n",
    "* количество внеучебных занятий (studytime)\n",
    "\n",
    "*Замечание*\n",
    "\n",
    "Однако, хоть признак отсутсвия учеников на занятиях (absences) и демонстрирует очень низкую корреляционную связь с оценками в корреляционной матрице, а тест Стьюдента вовсе не показал параметр количества времени, затрачиваемого на учебу вне школы (studytime), в силу здравого смысла, будет не лишним оставить эти признаки для дальнейшего построения модели. Также, не менее разумным будет исключение возрастного признака в силу его полной абсурдности и незначимости с точки зрения Стьюдента."
   ]
  },
  {
   "cell_type": "markdown",
   "metadata": {},
   "source": [
    "___________________________\n",
    "# Этап 3 \n",
    "_______________\n",
    "\n",
    "## Баг-репорт"
   ]
  },
  {
   "cell_type": "markdown",
   "metadata": {},
   "source": [
    "Данные поступили в отличном виде, ошибок с загрузкой или отображением данных не выявленно. Отдельно имеется лишь достаточно незначительное количество пустых значений в 27 признаках. Их распределение по датафрейму достаточно широкое, что не позволяло устранить их одновременно. Был обнаружен признак, который не учитывался в изначальном описании данных 'studytime,granular', в последствии был полностью устранен.\n",
    "\n",
    "Иных проблем не обнаружено.\n",
    "___________"
   ]
  },
  {
   "cell_type": "markdown",
   "metadata": {},
   "source": [
    "\n",
    "-------\n",
    "## *Результат выполненной работы*\n"
   ]
  },
  {
   "cell_type": "markdown",
   "metadata": {},
   "source": [
    "Следует отметить, что большинство наблюдений взято из одной школы, для такой небольшой выборки в 400 человек это вероятно даже лучше, чем если бы эти данные были получены из десятка разных школ. Полагаю, что различия между учащимися в таком случае могли бы быть куда более разрозненными. Если бы в данных были собраны 4000 учеников из разных школ, то вероятно, различия среди учеников, накладываемые самими школами стирались бы при такой большой выборке. Почему это возможно важно? Из этого десятка школ следует и месторасположение и район проживания, а следовательно доходы родителей, круг общения и другие параметры, влияющие на жизнь ученика. Поэтому для дальнейшего построения модели вероятно куда лучше, что данные собраны из одного источника, однако это возможно тоже наложит отпечаток на работу модели, так как она будет выстроена на очень узкотаргетированной группе. При всех вышеописанных условиях, данные вполне годятся для работы и построения модели. \n",
    "\n",
    "Поступившие данные не имели критической массы ошибок или пропущенных значений. Серьезной обработки не потребовалось ни одному параметру. Однако, некоторые изменения имели место. Параметр возраста имел данные, искажающие общую картину, было принято решение об их устранении. Среди признаков таких как: образование отцов, семейные отношения и количество пропущенных занятий имелось лишь по одному значению, которые были изначально введены исследователями некорректно, что потребовало дальнейшего исправления. Несмотря на это, данные в очень качественном состоянии. \n",
    "\n",
    "В целом, можно резюмировать, что возраст и пол распределены почти равнозначно среди учащихся. Также, достаточно одинаковое распределение имеет уровень образование среди родителей. Видно, что ученики в общей своей массе имеют достаточно неплохие условия и показатели успешной учебы, большинство из них имеет оценки по математике выше среднего. Ученики тратят достаточно времени на дополнительное образование, на уроки вне школы (по нескольку часов), имеют хорошее отношение с родителями, доступ к интернету, дальнейшее желание учиться и поступать в университет, в принципе редко пропускают школьные занятия и живут рядом со школой в городской местности. \n",
    "\n",
    "\n",
    "\n",
    "В процессе корреляционного анализа и теста Сьюдента были отмечены параметры, которые могут иметь влияние на результаты сдачи экзамена по математике.\n",
    "* пол **(sex)**\n",
    "* адрес **(address)**\n",
    "* образование отцов **(f_job)**\n",
    "* желание продолжать учебу и поступать в институт **(higher)**\n",
    "* состояние в романтических отношениях **(romantic)**\n",
    "* образование матери **(m_edu)**\n",
    "* количество внеучебных неудач **(failures)**\n",
    "* количество времени, затрачимаевого на общение с друзьями **(go_out)**\n",
    "* количество пропущенных занятий **(absences)**\n",
    "* количество внеучебных занятий **(studytime)**\n",
    "\n",
    "Каждый из вышеописанных признаков изначально не имел серьезных повреждений, обработан и вполне готов для дальнейшей работы.\n",
    "\n",
    "Конечно, в жизни прекрасно известно, что количество пропущенных занятий (absences), желание дальнейшего обучения в институте (higher), количество времени, проведенного с друзьями (go_out) ,количество затраченного времени на учебу (которое между прочим,статистический инструмент анализа не отметил как фактор, влияющий на результат экзамена),количество затраченного времени на подготовку к экзамену или же на общение с друзьями имеют прямое отношение к сдаче любого теста. Однако в данной работе не предусматривается интерпретация исследователем полученных результатов, объясняющая, имеется ли в действительности эта взаимосвязь. Достаточным будет выделение необходимых для работы признаков, что и сделано выше.\n",
    "\n",
    "Также важно отметить специфику работы интсрументов исследования ( корреляция, тест Стьюдента). При построении дальнейшей модели необходимо помнить, что указание на полученные признаки, демонстрирующие ( как бы не хотелось верить в их причинно-следственную связь или как бы она не была очевидна) **влияния условий жизни на успеваемость** является весьма условным, а не однозначно установленным. Другими словами, отмеченные характеристики не претендуют на то, чтобы однозначно установить, сущесвует ли в действительности взаимосвязь между предоставленными параметрами и оценками. В первую очередь это связано с тем, что сама корреляционная ( количественная) мера связи является незначительной в текущих данных, а во вторых, потому что для установления **влияния условий жизни на успеваемость** недостаточно использовать только количественные инсрументы анализа.\n",
    "\n",
    "Возможно, некоторые признаки, как полученные в ходе исследования, так и те, что остались вне рассмотрения, в действительности, имеют куда большее значение на успеваемость, однако из-за способа их добычи и сбора, их не смогли отследить статистические инструменты исследования, что случается чаще, чем мы думаем. Кроме этого, сама выборка проделана на основе не всех, а конкретных учеников, конкретной школы, что в свою очередь, также накладывает ряд условий.\n",
    "\n",
    "Поскольку результат работы продемонстрировали лишь статистическую связь, то единственным критерием доказательства их реального влияния будет успешное построение и не менее успешное применение модели. В связи с вышеизложенными допущениями, при построении модели можно учитывать то, что возможно придется добавлять какие-то неучтенные признаки или исключать имеющиеся для успешного решения поставленной задачи. Однако на данный момент предлагается использовать вышеизложенные параметры.\n",
    "______________\n"
   ]
  },
  {
   "cell_type": "code",
   "execution_count": null,
   "metadata": {},
   "outputs": [],
   "source": []
  }
 ],
 "metadata": {
  "kernelspec": {
   "display_name": "Python 3",
   "language": "python",
   "name": "python3"
  },
  "language_info": {
   "codemirror_mode": {
    "name": "ipython",
    "version": 3
   },
   "file_extension": ".py",
   "mimetype": "text/x-python",
   "name": "python",
   "nbconvert_exporter": "python",
   "pygments_lexer": "ipython3",
   "version": "3.7.4"
  }
 },
 "nbformat": 4,
 "nbformat_minor": 2
}
